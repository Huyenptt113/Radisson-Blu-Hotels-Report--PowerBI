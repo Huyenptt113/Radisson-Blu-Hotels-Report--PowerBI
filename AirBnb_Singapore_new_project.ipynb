{
  "nbformat": 4,
  "nbformat_minor": 0,
  "metadata": {
    "colab": {
      "name": "AirBnb Singapore new project",
      "provenance": [],
      "collapsed_sections": [],
      "toc_visible": true
    },
    "kernelspec": {
      "display_name": "Python 3",
      "name": "python3"
    },
    "language_info": {
      "name": "python"
    }
  },
  "cells": [
    {
      "cell_type": "markdown",
      "metadata": {
        "id": "saBkwkGnomPw"
      },
      "source": [
        "## About Dataset"
      ]
    },
    {
      "cell_type": "markdown",
      "metadata": {
        "id": "V6o-JG4Co-CW"
      },
      "source": [
        "**Dataset:** \n",
        "\n",
        "* AirBnb - Singapore market\n",
        "* Data source: Inside Airbnb website http://insideairbnb.com/get-the-data.html which hosts publicly available data from the Airbnb site.\n",
        "* Scrape date: Dec 26,2021 \n",
        "* Number of Recording: 3672 entries\n",
        "\n",
        "\n",
        "\n",
        "\n",
        "\n",
        "\n"
      ]
    },
    {
      "cell_type": "markdown",
      "metadata": {
        "id": "Xf9l81QPqKmT"
      },
      "source": [
        "## Audience"
      ]
    },
    {
      "cell_type": "markdown",
      "metadata": {
        "id": "R-UisDH9qRkA"
      },
      "source": [
        "* The target audiences that the project toward to are: Tourists who want to visit Singapore"
      ]
    },
    {
      "cell_type": "markdown",
      "metadata": {
        "id": "iWse2y7ltqka"
      },
      "source": [
        "## Question\n",
        "\n",
        "Airbnb is a booking platform for listing and renting local homes. The idea of this project came from the love of travelling and hope to find insights that might be helpful for future tourists when it comes to looking for an ideal place to stay during a vacation in Singapore.\n",
        "This project aims to answer the question: Which location is the best to stay among top 5 popular districts in Singapore?"
      ]
    },
    {
      "cell_type": "markdown",
      "metadata": {
        "id": "YNSUudnv4GpP"
      },
      "source": [
        "## Import Data"
      ]
    },
    {
      "cell_type": "code",
      "metadata": {
        "id": "d2-SbWvXmcCv"
      },
      "source": [
        "import pandas as pd\n",
        "import matplotlib.pyplot as plt\n",
        "import seaborn as sns\n",
        "import numpy as np"
      ],
      "execution_count": 1,
      "outputs": []
    },
    {
      "cell_type": "code",
      "metadata": {
        "id": "-KUDzAnzSZcW"
      },
      "source": [
        "listing = pd.read_csv('https://raw.githubusercontent.com/Huyenptt113/Airbnb-Singapore/main/listings2.csv')"
      ],
      "execution_count": 2,
      "outputs": []
    },
    {
      "cell_type": "code",
      "source": [
        "listing.shape"
      ],
      "metadata": {
        "colab": {
          "base_uri": "https://localhost:8080/"
        },
        "id": "pOAgehdKhwqd",
        "outputId": "c139815b-c963-414c-8202-2e63ecd79b4f"
      },
      "execution_count": 3,
      "outputs": [
        {
          "output_type": "execute_result",
          "data": {
            "text/plain": [
              "(3672, 74)"
            ]
          },
          "metadata": {},
          "execution_count": 3
        }
      ]
    },
    {
      "cell_type": "code",
      "metadata": {
        "id": "CG6Z-ew0nzTg",
        "colab": {
          "base_uri": "https://localhost:8080/"
        },
        "outputId": "c1e3cbb7-1085-495c-e3ce-df0b28505d3b"
      },
      "source": [
        "# check column names\n",
        "listing.columns"
      ],
      "execution_count": 4,
      "outputs": [
        {
          "output_type": "execute_result",
          "data": {
            "text/plain": [
              "Index(['id', 'listing_url', 'scrape_id', 'last_scraped', 'name', 'description',\n",
              "       'neighborhood_overview', 'picture_url', 'host_id', 'host_url',\n",
              "       'host_name', 'host_since', 'host_location', 'host_about',\n",
              "       'host_response_time', 'host_response_rate', 'host_acceptance_rate',\n",
              "       'host_is_superhost', 'host_thumbnail_url', 'host_picture_url',\n",
              "       'host_neighbourhood', 'host_listings_count',\n",
              "       'host_total_listings_count', 'host_verifications',\n",
              "       'host_has_profile_pic', 'host_identity_verified', 'neighbourhood',\n",
              "       'neighbourhood_cleansed', 'neighbourhood_group_cleansed', 'latitude',\n",
              "       'longitude', 'property_type', 'room_type', 'accommodates', 'bathrooms',\n",
              "       'bathrooms_text', 'bedrooms', 'beds', 'amenities', 'price',\n",
              "       'minimum_nights', 'maximum_nights', 'minimum_minimum_nights',\n",
              "       'maximum_minimum_nights', 'minimum_maximum_nights',\n",
              "       'maximum_maximum_nights', 'minimum_nights_avg_ntm',\n",
              "       'maximum_nights_avg_ntm', 'calendar_updated', 'has_availability',\n",
              "       'availability_30', 'availability_60', 'availability_90',\n",
              "       'availability_365', 'calendar_last_scraped', 'number_of_reviews',\n",
              "       'number_of_reviews_ltm', 'number_of_reviews_l30d', 'first_review',\n",
              "       'last_review', 'review_scores_rating', 'review_scores_accuracy',\n",
              "       'review_scores_cleanliness', 'review_scores_checkin',\n",
              "       'review_scores_communication', 'review_scores_location',\n",
              "       'review_scores_value', 'license', 'instant_bookable',\n",
              "       'calculated_host_listings_count',\n",
              "       'calculated_host_listings_count_entire_homes',\n",
              "       'calculated_host_listings_count_private_rooms',\n",
              "       'calculated_host_listings_count_shared_rooms', 'reviews_per_month'],\n",
              "      dtype='object')"
            ]
          },
          "metadata": {},
          "execution_count": 4
        }
      ]
    },
    {
      "cell_type": "markdown",
      "metadata": {
        "id": "TXFo8nQyW6qX"
      },
      "source": [
        "# A - Data Cleaning"
      ]
    },
    {
      "cell_type": "markdown",
      "metadata": {
        "id": "HAyyGFewGL4H"
      },
      "source": [
        "## A1 - Remove unwanted observations"
      ]
    },
    {
      "cell_type": "markdown",
      "metadata": {
        "id": "E2FnlU4xnkkC"
      },
      "source": [
        "### DROP COLUMNS"
      ]
    },
    {
      "cell_type": "code",
      "source": [
        "#check duplication\n",
        "listing.duplicated().sum()"
      ],
      "metadata": {
        "colab": {
          "base_uri": "https://localhost:8080/"
        },
        "id": "zDC5ZPPoqNin",
        "outputId": "700323dd-85da-488d-c65d-44d49a56748c"
      },
      "execution_count": 5,
      "outputs": [
        {
          "output_type": "execute_result",
          "data": {
            "text/plain": [
              "0"
            ]
          },
          "metadata": {},
          "execution_count": 5
        }
      ]
    },
    {
      "cell_type": "code",
      "metadata": {
        "id": "_fWqRgZBfHda"
      },
      "source": [
        "#DROP UNECESSARY COLUMS\n",
        "columns = ['listing_url','scrape_id','last_scraped', 'description', 'neighborhood_overview', 'picture_url','host_url','host_name','host_id','host_since', 'amenities',\n",
        "           'host_location', 'host_about','host_picture_url','host_thumbnail_url','host_verifications','neighbourhood_group_cleansed',\n",
        "           'neighbourhood', 'bathrooms','availability_30','availability_60','availability_90','availability_365','property_type','host_listings_count',\n",
        "           'minimum_minimum_nights', 'maximum_minimum_nights','minimum_maximum_nights','maximum_maximum_nights','minimum_nights_avg_ntm','maximum_nights_avg_ntm',\n",
        "           'calendar_updated','calendar_last_scraped', 'host_total_listings_count','calculated_host_listings_count','calculated_host_listings_count_entire_homes','calculated_host_listings_count_private_rooms',\n",
        "       'calculated_host_listings_count_shared_rooms','name','license','minimum_nights','maximum_nights','host_has_profile_pic','host_neighbourhood','first_review','last_review']\n",
        "\n",
        "listing_clean = listing.drop(columns= columns)"
      ],
      "execution_count": 6,
      "outputs": []
    },
    {
      "cell_type": "code",
      "metadata": {
        "id": "JgyiWkZ9sAAM",
        "colab": {
          "base_uri": "https://localhost:8080/"
        },
        "outputId": "b98a3cea-1ce9-400e-cbaf-db46841ef897"
      },
      "source": [
        "# check infor after columns dropping\n",
        "listing_clean.info()"
      ],
      "execution_count": 7,
      "outputs": [
        {
          "output_type": "stream",
          "name": "stdout",
          "text": [
            "<class 'pandas.core.frame.DataFrame'>\n",
            "RangeIndex: 3672 entries, 0 to 3671\n",
            "Data columns (total 28 columns):\n",
            " #   Column                       Non-Null Count  Dtype  \n",
            "---  ------                       --------------  -----  \n",
            " 0   id                           3672 non-null   int64  \n",
            " 1   host_response_time           3218 non-null   object \n",
            " 2   host_response_rate           3218 non-null   object \n",
            " 3   host_acceptance_rate         2944 non-null   object \n",
            " 4   host_is_superhost            3661 non-null   object \n",
            " 5   host_identity_verified       3661 non-null   object \n",
            " 6   neighbourhood_cleansed       3672 non-null   object \n",
            " 7   latitude                     3672 non-null   float64\n",
            " 8   longitude                    3672 non-null   float64\n",
            " 9   room_type                    3672 non-null   object \n",
            " 10  accommodates                 3672 non-null   int64  \n",
            " 11  bathrooms_text               3643 non-null   object \n",
            " 12  bedrooms                     3255 non-null   float64\n",
            " 13  beds                         3542 non-null   float64\n",
            " 14  price                        3672 non-null   object \n",
            " 15  has_availability             3672 non-null   object \n",
            " 16  number_of_reviews            3672 non-null   int64  \n",
            " 17  number_of_reviews_ltm        3672 non-null   int64  \n",
            " 18  number_of_reviews_l30d       3672 non-null   int64  \n",
            " 19  review_scores_rating         2044 non-null   float64\n",
            " 20  review_scores_accuracy       1988 non-null   float64\n",
            " 21  review_scores_cleanliness    1989 non-null   float64\n",
            " 22  review_scores_checkin        1988 non-null   float64\n",
            " 23  review_scores_communication  1989 non-null   float64\n",
            " 24  review_scores_location       1988 non-null   float64\n",
            " 25  review_scores_value          1988 non-null   float64\n",
            " 26  instant_bookable             3672 non-null   object \n",
            " 27  reviews_per_month            2044 non-null   float64\n",
            "dtypes: float64(12), int64(5), object(11)\n",
            "memory usage: 803.4+ KB\n"
          ]
        }
      ]
    },
    {
      "cell_type": "markdown",
      "metadata": {
        "id": "4k9iEkmGGc91"
      },
      "source": [
        "## A2 - Handle uncorrect Datatype"
      ]
    },
    {
      "cell_type": "code",
      "metadata": {
        "id": "xY7VxPPIsvoz"
      },
      "source": [
        "# Change Data-type \n",
        "listing_clean['host_response_rate'] = listing_clean['host_response_rate'].str.replace('%','').astype('float')\n",
        "listing_clean['host_acceptance_rate'] = listing_clean['host_acceptance_rate'].str.replace('%','').astype('float')"
      ],
      "execution_count": 8,
      "outputs": []
    },
    {
      "cell_type": "code",
      "metadata": {
        "id": "661C7Apm-0tk",
        "colab": {
          "base_uri": "https://localhost:8080/"
        },
        "outputId": "04b4ac68-4881-4a19-f9cc-3ef7208f081a"
      },
      "source": [
        "# Change Data-type \n",
        "listing_clean['price'] = listing_clean['price'].str.replace(r'[$,]', '').astype('float')"
      ],
      "execution_count": 9,
      "outputs": [
        {
          "output_type": "stream",
          "name": "stderr",
          "text": [
            "/usr/local/lib/python3.7/dist-packages/ipykernel_launcher.py:2: FutureWarning: The default value of regex will change from True to False in a future version.\n",
            "  \n"
          ]
        }
      ]
    },
    {
      "cell_type": "code",
      "metadata": {
        "id": "Jrr6VbjJnDrw",
        "colab": {
          "base_uri": "https://localhost:8080/"
        },
        "outputId": "d193dd55-5122-4354-b3c8-b7ab60f52d5e"
      },
      "source": [
        "# step 1: takes the \"number \" out the the strings of the column\n",
        "listing_clean['bathrooms_text'] = listing_clean['bathrooms_text'].str.replace(r'[a-zA-Z\\s]', '')\n",
        "# replace the '' values to 1:\n",
        "listing_clean['bathrooms_text'] = listing_clean['bathrooms_text'].str.replace(r'\\D$','1')\n",
        "# turn the type to float\n",
        "listing_clean['bathrooms_text'] = listing_clean['bathrooms_text'].astype('float')\n",
        "# change the name to barthrooms\n",
        "listing_clean.rename(columns = {'bathrooms_text':'bathrooms'}, inplace = True)"
      ],
      "execution_count": 10,
      "outputs": [
        {
          "output_type": "stream",
          "name": "stderr",
          "text": [
            "/usr/local/lib/python3.7/dist-packages/ipykernel_launcher.py:2: FutureWarning: The default value of regex will change from True to False in a future version.\n",
            "  \n",
            "/usr/local/lib/python3.7/dist-packages/ipykernel_launcher.py:4: FutureWarning: The default value of regex will change from True to False in a future version.\n",
            "  after removing the cwd from sys.path.\n"
          ]
        }
      ]
    },
    {
      "cell_type": "code",
      "metadata": {
        "id": "_VWwtC8VHST3",
        "colab": {
          "base_uri": "https://localhost:8080/"
        },
        "outputId": "c3dde955-e0c4-4d84-8e67-5629365195d0"
      },
      "source": [
        "#re-check data type after changing type\n",
        "\n",
        "listing_clean.info()"
      ],
      "execution_count": 11,
      "outputs": [
        {
          "output_type": "stream",
          "name": "stdout",
          "text": [
            "<class 'pandas.core.frame.DataFrame'>\n",
            "RangeIndex: 3672 entries, 0 to 3671\n",
            "Data columns (total 28 columns):\n",
            " #   Column                       Non-Null Count  Dtype  \n",
            "---  ------                       --------------  -----  \n",
            " 0   id                           3672 non-null   int64  \n",
            " 1   host_response_time           3218 non-null   object \n",
            " 2   host_response_rate           3218 non-null   float64\n",
            " 3   host_acceptance_rate         2944 non-null   float64\n",
            " 4   host_is_superhost            3661 non-null   object \n",
            " 5   host_identity_verified       3661 non-null   object \n",
            " 6   neighbourhood_cleansed       3672 non-null   object \n",
            " 7   latitude                     3672 non-null   float64\n",
            " 8   longitude                    3672 non-null   float64\n",
            " 9   room_type                    3672 non-null   object \n",
            " 10  accommodates                 3672 non-null   int64  \n",
            " 11  bathrooms                    3643 non-null   float64\n",
            " 12  bedrooms                     3255 non-null   float64\n",
            " 13  beds                         3542 non-null   float64\n",
            " 14  price                        3672 non-null   float64\n",
            " 15  has_availability             3672 non-null   object \n",
            " 16  number_of_reviews            3672 non-null   int64  \n",
            " 17  number_of_reviews_ltm        3672 non-null   int64  \n",
            " 18  number_of_reviews_l30d       3672 non-null   int64  \n",
            " 19  review_scores_rating         2044 non-null   float64\n",
            " 20  review_scores_accuracy       1988 non-null   float64\n",
            " 21  review_scores_cleanliness    1989 non-null   float64\n",
            " 22  review_scores_checkin        1988 non-null   float64\n",
            " 23  review_scores_communication  1989 non-null   float64\n",
            " 24  review_scores_location       1988 non-null   float64\n",
            " 25  review_scores_value          1988 non-null   float64\n",
            " 26  instant_bookable             3672 non-null   object \n",
            " 27  reviews_per_month            2044 non-null   float64\n",
            "dtypes: float64(16), int64(5), object(7)\n",
            "memory usage: 803.4+ KB\n"
          ]
        }
      ]
    },
    {
      "cell_type": "markdown",
      "metadata": {
        "id": "ZCpN3TqnGnbp"
      },
      "source": [
        "## A3 - Change categorial values"
      ]
    },
    {
      "cell_type": "code",
      "source": [
        "listing_clean.replace(\"t\",\"Yes\",inplace=True)\n",
        "listing_clean.replace(\"f\",\"No\",inplace=True)"
      ],
      "metadata": {
        "id": "9h7DgAJxH0cG"
      },
      "execution_count": 12,
      "outputs": []
    },
    {
      "cell_type": "markdown",
      "source": [
        "## A4 - Create new columns"
      ],
      "metadata": {
        "id": "9sejLvDwPh4o"
      }
    },
    {
      "cell_type": "code",
      "source": [
        "listing_clean['total_beds'] = listing_clean['bedrooms']*listing_clean['beds']\n",
        "listing_clean['price_per_person'] = listing_clean['price']/listing_clean['accommodates']"
      ],
      "metadata": {
        "id": "7rj6xV3cPmc6"
      },
      "execution_count": 13,
      "outputs": []
    },
    {
      "cell_type": "code",
      "source": [
        "listing_clean = listing_clean.drop(columns='beds')"
      ],
      "metadata": {
        "id": "xDezm4l-Jjh9"
      },
      "execution_count": 14,
      "outputs": []
    },
    {
      "cell_type": "code",
      "source": [
        "listing_clean.info()"
      ],
      "metadata": {
        "colab": {
          "base_uri": "https://localhost:8080/"
        },
        "id": "tj8pg2EILkjC",
        "outputId": "9d575b97-0287-4dbe-88a5-c6b6955c91ed"
      },
      "execution_count": 15,
      "outputs": [
        {
          "output_type": "stream",
          "name": "stdout",
          "text": [
            "<class 'pandas.core.frame.DataFrame'>\n",
            "RangeIndex: 3672 entries, 0 to 3671\n",
            "Data columns (total 29 columns):\n",
            " #   Column                       Non-Null Count  Dtype  \n",
            "---  ------                       --------------  -----  \n",
            " 0   id                           3672 non-null   int64  \n",
            " 1   host_response_time           3218 non-null   object \n",
            " 2   host_response_rate           3218 non-null   float64\n",
            " 3   host_acceptance_rate         2944 non-null   float64\n",
            " 4   host_is_superhost            3661 non-null   object \n",
            " 5   host_identity_verified       3661 non-null   object \n",
            " 6   neighbourhood_cleansed       3672 non-null   object \n",
            " 7   latitude                     3672 non-null   float64\n",
            " 8   longitude                    3672 non-null   float64\n",
            " 9   room_type                    3672 non-null   object \n",
            " 10  accommodates                 3672 non-null   int64  \n",
            " 11  bathrooms                    3643 non-null   float64\n",
            " 12  bedrooms                     3255 non-null   float64\n",
            " 13  price                        3672 non-null   float64\n",
            " 14  has_availability             3672 non-null   object \n",
            " 15  number_of_reviews            3672 non-null   int64  \n",
            " 16  number_of_reviews_ltm        3672 non-null   int64  \n",
            " 17  number_of_reviews_l30d       3672 non-null   int64  \n",
            " 18  review_scores_rating         2044 non-null   float64\n",
            " 19  review_scores_accuracy       1988 non-null   float64\n",
            " 20  review_scores_cleanliness    1989 non-null   float64\n",
            " 21  review_scores_checkin        1988 non-null   float64\n",
            " 22  review_scores_communication  1989 non-null   float64\n",
            " 23  review_scores_location       1988 non-null   float64\n",
            " 24  review_scores_value          1988 non-null   float64\n",
            " 25  instant_bookable             3672 non-null   object \n",
            " 26  reviews_per_month            2044 non-null   float64\n",
            " 27  total_beds                   3154 non-null   float64\n",
            " 28  price_per_person             3671 non-null   float64\n",
            "dtypes: float64(17), int64(5), object(7)\n",
            "memory usage: 832.1+ KB\n"
          ]
        }
      ]
    },
    {
      "cell_type": "markdown",
      "metadata": {
        "id": "5ftT1D6fHuvZ"
      },
      "source": [
        "## A5 - Handle Missing Values"
      ]
    },
    {
      "cell_type": "code",
      "source": [
        "# TOP 3 NEIGHBOURHOODS WITH MOST LISTINGS\n",
        "listing_clean['neighbourhood_cleansed'].value_counts().head(10)"
      ],
      "metadata": {
        "colab": {
          "base_uri": "https://localhost:8080/"
        },
        "id": "gVxrFBLJJmMN",
        "outputId": "6cdfd02c-5726-46ad-cd98-9cff3b1d10c8"
      },
      "execution_count": 16,
      "outputs": [
        {
          "output_type": "execute_result",
          "data": {
            "text/plain": [
              "Kallang          405\n",
              "Geylang          340\n",
              "Downtown Core    317\n",
              "Outram           309\n",
              "Rochor           270\n",
              "Novena           235\n",
              "Bedok            186\n",
              "Bukit Merah      178\n",
              "River Valley     149\n",
              "Queenstown       143\n",
              "Name: neighbourhood_cleansed, dtype: int64"
            ]
          },
          "metadata": {},
          "execution_count": 16
        }
      ]
    },
    {
      "cell_type": "code",
      "source": [
        "# FILTER OUT 5 CENTRAL LOCATIONS WITH MOST LISTINGS\n",
        "listing_central =  listing_clean[listing_clean['neighbourhood_cleansed'].isin(['Kallang','Geylang','Downtown Core','Outram','Rochor'])]"
      ],
      "metadata": {
        "id": "zHH1B571JpQh"
      },
      "execution_count": 17,
      "outputs": []
    },
    {
      "cell_type": "code",
      "source": [
        "#check number of missing value\n",
        "listing_central.isna().sum()"
      ],
      "metadata": {
        "colab": {
          "base_uri": "https://localhost:8080/"
        },
        "id": "qJR6tjNHeFpg",
        "outputId": "a7506d6f-d9ec-43b1-95dd-ad555fd8e641"
      },
      "execution_count": 18,
      "outputs": [
        {
          "output_type": "execute_result",
          "data": {
            "text/plain": [
              "id                               0\n",
              "host_response_time             134\n",
              "host_response_rate             134\n",
              "host_acceptance_rate           224\n",
              "host_is_superhost                0\n",
              "host_identity_verified           0\n",
              "neighbourhood_cleansed           0\n",
              "latitude                         0\n",
              "longitude                        0\n",
              "room_type                        0\n",
              "accommodates                     0\n",
              "bathrooms                       18\n",
              "bedrooms                       203\n",
              "price                            0\n",
              "has_availability                 0\n",
              "number_of_reviews                0\n",
              "number_of_reviews_ltm            0\n",
              "number_of_reviews_l30d           0\n",
              "review_scores_rating           585\n",
              "review_scores_accuracy         597\n",
              "review_scores_cleanliness      597\n",
              "review_scores_checkin          597\n",
              "review_scores_communication    596\n",
              "review_scores_location         596\n",
              "review_scores_value            596\n",
              "instant_bookable                 0\n",
              "reviews_per_month              585\n",
              "total_beds                     248\n",
              "price_per_person                 0\n",
              "dtype: int64"
            ]
          },
          "metadata": {},
          "execution_count": 18
        }
      ]
    },
    {
      "cell_type": "markdown",
      "source": [
        "#### host_response_time"
      ],
      "metadata": {
        "id": "xkB1VT1ft2ZT"
      }
    },
    {
      "cell_type": "code",
      "source": [
        "listing_central.groupby('host_is_superhost')['host_response_time'].value_counts()"
      ],
      "metadata": {
        "colab": {
          "base_uri": "https://localhost:8080/"
        },
        "id": "RjlVz4ThMz0B",
        "outputId": "077217aa-c891-4ad6-cfd5-d4e2ed461e7e"
      },
      "execution_count": 19,
      "outputs": [
        {
          "output_type": "execute_result",
          "data": {
            "text/plain": [
              "host_is_superhost  host_response_time\n",
              "No                 within a few hours    407\n",
              "                   within an hour        301\n",
              "                   a few days or more    212\n",
              "                   within a day          174\n",
              "Yes                within a few hours    259\n",
              "                   within an hour        117\n",
              "                   within a day           37\n",
              "Name: host_response_time, dtype: int64"
            ]
          },
          "metadata": {},
          "execution_count": 19
        }
      ]
    },
    {
      "cell_type": "code",
      "source": [
        "listing_central.groupby('host_is_superhost')['host_response_time'].describe()"
      ],
      "metadata": {
        "colab": {
          "base_uri": "https://localhost:8080/",
          "height": 143
        },
        "id": "yKbsuyUx8bIH",
        "outputId": "d98994cc-4127-469c-a42b-370a53c29b91"
      },
      "execution_count": 20,
      "outputs": [
        {
          "output_type": "execute_result",
          "data": {
            "text/plain": [
              "                  count unique                 top freq\n",
              "host_is_superhost                                      \n",
              "No                 1094      4  within a few hours  407\n",
              "Yes                 413      3  within a few hours  259"
            ],
            "text/html": [
              "\n",
              "  <div id=\"df-88f8a78b-4982-4468-9941-2e59f77df58b\">\n",
              "    <div class=\"colab-df-container\">\n",
              "      <div>\n",
              "<style scoped>\n",
              "    .dataframe tbody tr th:only-of-type {\n",
              "        vertical-align: middle;\n",
              "    }\n",
              "\n",
              "    .dataframe tbody tr th {\n",
              "        vertical-align: top;\n",
              "    }\n",
              "\n",
              "    .dataframe thead th {\n",
              "        text-align: right;\n",
              "    }\n",
              "</style>\n",
              "<table border=\"1\" class=\"dataframe\">\n",
              "  <thead>\n",
              "    <tr style=\"text-align: right;\">\n",
              "      <th></th>\n",
              "      <th>count</th>\n",
              "      <th>unique</th>\n",
              "      <th>top</th>\n",
              "      <th>freq</th>\n",
              "    </tr>\n",
              "    <tr>\n",
              "      <th>host_is_superhost</th>\n",
              "      <th></th>\n",
              "      <th></th>\n",
              "      <th></th>\n",
              "      <th></th>\n",
              "    </tr>\n",
              "  </thead>\n",
              "  <tbody>\n",
              "    <tr>\n",
              "      <th>No</th>\n",
              "      <td>1094</td>\n",
              "      <td>4</td>\n",
              "      <td>within a few hours</td>\n",
              "      <td>407</td>\n",
              "    </tr>\n",
              "    <tr>\n",
              "      <th>Yes</th>\n",
              "      <td>413</td>\n",
              "      <td>3</td>\n",
              "      <td>within a few hours</td>\n",
              "      <td>259</td>\n",
              "    </tr>\n",
              "  </tbody>\n",
              "</table>\n",
              "</div>\n",
              "      <button class=\"colab-df-convert\" onclick=\"convertToInteractive('df-88f8a78b-4982-4468-9941-2e59f77df58b')\"\n",
              "              title=\"Convert this dataframe to an interactive table.\"\n",
              "              style=\"display:none;\">\n",
              "        \n",
              "  <svg xmlns=\"http://www.w3.org/2000/svg\" height=\"24px\"viewBox=\"0 0 24 24\"\n",
              "       width=\"24px\">\n",
              "    <path d=\"M0 0h24v24H0V0z\" fill=\"none\"/>\n",
              "    <path d=\"M18.56 5.44l.94 2.06.94-2.06 2.06-.94-2.06-.94-.94-2.06-.94 2.06-2.06.94zm-11 1L8.5 8.5l.94-2.06 2.06-.94-2.06-.94L8.5 2.5l-.94 2.06-2.06.94zm10 10l.94 2.06.94-2.06 2.06-.94-2.06-.94-.94-2.06-.94 2.06-2.06.94z\"/><path d=\"M17.41 7.96l-1.37-1.37c-.4-.4-.92-.59-1.43-.59-.52 0-1.04.2-1.43.59L10.3 9.45l-7.72 7.72c-.78.78-.78 2.05 0 2.83L4 21.41c.39.39.9.59 1.41.59.51 0 1.02-.2 1.41-.59l7.78-7.78 2.81-2.81c.8-.78.8-2.07 0-2.86zM5.41 20L4 18.59l7.72-7.72 1.47 1.35L5.41 20z\"/>\n",
              "  </svg>\n",
              "      </button>\n",
              "      \n",
              "  <style>\n",
              "    .colab-df-container {\n",
              "      display:flex;\n",
              "      flex-wrap:wrap;\n",
              "      gap: 12px;\n",
              "    }\n",
              "\n",
              "    .colab-df-convert {\n",
              "      background-color: #E8F0FE;\n",
              "      border: none;\n",
              "      border-radius: 50%;\n",
              "      cursor: pointer;\n",
              "      display: none;\n",
              "      fill: #1967D2;\n",
              "      height: 32px;\n",
              "      padding: 0 0 0 0;\n",
              "      width: 32px;\n",
              "    }\n",
              "\n",
              "    .colab-df-convert:hover {\n",
              "      background-color: #E2EBFA;\n",
              "      box-shadow: 0px 1px 2px rgba(60, 64, 67, 0.3), 0px 1px 3px 1px rgba(60, 64, 67, 0.15);\n",
              "      fill: #174EA6;\n",
              "    }\n",
              "\n",
              "    [theme=dark] .colab-df-convert {\n",
              "      background-color: #3B4455;\n",
              "      fill: #D2E3FC;\n",
              "    }\n",
              "\n",
              "    [theme=dark] .colab-df-convert:hover {\n",
              "      background-color: #434B5C;\n",
              "      box-shadow: 0px 1px 3px 1px rgba(0, 0, 0, 0.15);\n",
              "      filter: drop-shadow(0px 1px 2px rgba(0, 0, 0, 0.3));\n",
              "      fill: #FFFFFF;\n",
              "    }\n",
              "  </style>\n",
              "\n",
              "      <script>\n",
              "        const buttonEl =\n",
              "          document.querySelector('#df-88f8a78b-4982-4468-9941-2e59f77df58b button.colab-df-convert');\n",
              "        buttonEl.style.display =\n",
              "          google.colab.kernel.accessAllowed ? 'block' : 'none';\n",
              "\n",
              "        async function convertToInteractive(key) {\n",
              "          const element = document.querySelector('#df-88f8a78b-4982-4468-9941-2e59f77df58b');\n",
              "          const dataTable =\n",
              "            await google.colab.kernel.invokeFunction('convertToInteractive',\n",
              "                                                     [key], {});\n",
              "          if (!dataTable) return;\n",
              "\n",
              "          const docLinkHtml = 'Like what you see? Visit the ' +\n",
              "            '<a target=\"_blank\" href=https://colab.research.google.com/notebooks/data_table.ipynb>data table notebook</a>'\n",
              "            + ' to learn more about interactive tables.';\n",
              "          element.innerHTML = '';\n",
              "          dataTable['output_type'] = 'display_data';\n",
              "          await google.colab.output.renderOutput(dataTable, element);\n",
              "          const docLink = document.createElement('div');\n",
              "          docLink.innerHTML = docLinkHtml;\n",
              "          element.appendChild(docLink);\n",
              "        }\n",
              "      </script>\n",
              "    </div>\n",
              "  </div>\n",
              "  "
            ]
          },
          "metadata": {},
          "execution_count": 20
        }
      ]
    },
    {
      "cell_type": "code",
      "source": [
        "#check listings containing missing values in 'host_response_time' column that has no review\n",
        "listing_central[(listing_central['host_response_time'].isna()) & (listing_central['number_of_reviews'] !=0)]"
      ],
      "metadata": {
        "colab": {
          "base_uri": "https://localhost:8080/",
          "height": 626
        },
        "id": "WQp6ZRyiRbaB",
        "outputId": "2eacf64b-0a51-4dd7-b471-82c18bf545a8"
      },
      "execution_count": 21,
      "outputs": [
        {
          "output_type": "execute_result",
          "data": {
            "text/plain": [
              "            id host_response_time  host_response_rate  host_acceptance_rate  \\\n",
              "50     1654840                NaN                 NaN                   NaN   \n",
              "51     1678744                NaN                 NaN                   NaN   \n",
              "52     1678754                NaN                 NaN                   NaN   \n",
              "53     1678755                NaN                 NaN                   NaN   \n",
              "72     2547370                NaN                 NaN                   NaN   \n",
              "...        ...                ...                 ...                   ...   \n",
              "2470  41032965                NaN                 NaN                   NaN   \n",
              "2581  42104603                NaN                 NaN                   NaN   \n",
              "2735  43174323                NaN                 NaN                   NaN   \n",
              "2736  43175252                NaN                 NaN                   NaN   \n",
              "2826  43737197                NaN                 NaN                   NaN   \n",
              "\n",
              "     host_is_superhost host_identity_verified neighbourhood_cleansed  \\\n",
              "50                  No                     No                 Rochor   \n",
              "51                  No                    Yes                 Outram   \n",
              "52                  No                    Yes                 Outram   \n",
              "53                  No                    Yes                 Outram   \n",
              "72                  No                     No                 Rochor   \n",
              "...                ...                    ...                    ...   \n",
              "2470                No                    Yes                 Outram   \n",
              "2581                No                    Yes                 Outram   \n",
              "2735                No                    Yes          Downtown Core   \n",
              "2736                No                    Yes          Downtown Core   \n",
              "2826                No                    Yes                 Rochor   \n",
              "\n",
              "      latitude  longitude        room_type  ...  review_scores_accuracy  \\\n",
              "50     1.30292  103.85800     Private room  ...                    3.50   \n",
              "51     1.28405  103.84424      Shared room  ...                    4.65   \n",
              "52     1.28405  103.84424       Hotel room  ...                    5.00   \n",
              "53     1.28405  103.84424       Hotel room  ...                    4.72   \n",
              "72     1.30154  103.85941     Private room  ...                    4.50   \n",
              "...        ...        ...              ...  ...                     ...   \n",
              "2470   1.28038  103.84195     Private room  ...                    5.00   \n",
              "2581   1.28152  103.84099     Private room  ...                    5.00   \n",
              "2735   1.27563  103.84849     Private room  ...                    5.00   \n",
              "2736   1.27726  103.84748  Entire home/apt  ...                    5.00   \n",
              "2826   1.30545  103.85881     Private room  ...                    5.00   \n",
              "\n",
              "      review_scores_cleanliness  review_scores_checkin  \\\n",
              "50                         3.50                   4.50   \n",
              "51                         4.43                   4.84   \n",
              "52                         4.50                   5.00   \n",
              "53                         4.66                   4.88   \n",
              "72                         3.00                   5.00   \n",
              "...                         ...                    ...   \n",
              "2470                       5.00                   5.00   \n",
              "2581                       5.00                   5.00   \n",
              "2735                       5.00                   5.00   \n",
              "2736                       5.00                   5.00   \n",
              "2826                       5.00                   5.00   \n",
              "\n",
              "      review_scores_communication review_scores_location  review_scores_value  \\\n",
              "50                           4.00                   4.50                 4.00   \n",
              "51                           4.79                   4.86                 4.67   \n",
              "52                           5.00                   5.00                 5.00   \n",
              "53                           4.85                   4.90                 4.62   \n",
              "72                           5.00                   4.00                 4.00   \n",
              "...                           ...                    ...                  ...   \n",
              "2470                         5.00                   5.00                 4.00   \n",
              "2581                         5.00                   5.00                 5.00   \n",
              "2735                         5.00                   5.00                 4.50   \n",
              "2736                         5.00                   5.00                 5.00   \n",
              "2826                         5.00                   5.00                 5.00   \n",
              "\n",
              "      instant_bookable  reviews_per_month  total_beds  price_per_person  \n",
              "50                  No               0.04         3.0              30.0  \n",
              "51                  No               1.52         1.0              63.0  \n",
              "52                  No               0.03         6.0              63.0  \n",
              "53                  No               0.97         1.0              63.0  \n",
              "72                  No               0.05         4.0              27.5  \n",
              "...                ...                ...         ...               ...  \n",
              "2470               Yes               0.04         1.0             208.0  \n",
              "2581               Yes               0.04         1.0             196.0  \n",
              "2735               Yes               0.13         6.0             159.0  \n",
              "2736               Yes               0.08         1.0             194.5  \n",
              "2826               Yes               0.05         1.0             103.0  \n",
              "\n",
              "[76 rows x 29 columns]"
            ],
            "text/html": [
              "\n",
              "  <div id=\"df-cee5e7ac-faaa-46ef-a69c-4e7a950dcd5f\">\n",
              "    <div class=\"colab-df-container\">\n",
              "      <div>\n",
              "<style scoped>\n",
              "    .dataframe tbody tr th:only-of-type {\n",
              "        vertical-align: middle;\n",
              "    }\n",
              "\n",
              "    .dataframe tbody tr th {\n",
              "        vertical-align: top;\n",
              "    }\n",
              "\n",
              "    .dataframe thead th {\n",
              "        text-align: right;\n",
              "    }\n",
              "</style>\n",
              "<table border=\"1\" class=\"dataframe\">\n",
              "  <thead>\n",
              "    <tr style=\"text-align: right;\">\n",
              "      <th></th>\n",
              "      <th>id</th>\n",
              "      <th>host_response_time</th>\n",
              "      <th>host_response_rate</th>\n",
              "      <th>host_acceptance_rate</th>\n",
              "      <th>host_is_superhost</th>\n",
              "      <th>host_identity_verified</th>\n",
              "      <th>neighbourhood_cleansed</th>\n",
              "      <th>latitude</th>\n",
              "      <th>longitude</th>\n",
              "      <th>room_type</th>\n",
              "      <th>...</th>\n",
              "      <th>review_scores_accuracy</th>\n",
              "      <th>review_scores_cleanliness</th>\n",
              "      <th>review_scores_checkin</th>\n",
              "      <th>review_scores_communication</th>\n",
              "      <th>review_scores_location</th>\n",
              "      <th>review_scores_value</th>\n",
              "      <th>instant_bookable</th>\n",
              "      <th>reviews_per_month</th>\n",
              "      <th>total_beds</th>\n",
              "      <th>price_per_person</th>\n",
              "    </tr>\n",
              "  </thead>\n",
              "  <tbody>\n",
              "    <tr>\n",
              "      <th>50</th>\n",
              "      <td>1654840</td>\n",
              "      <td>NaN</td>\n",
              "      <td>NaN</td>\n",
              "      <td>NaN</td>\n",
              "      <td>No</td>\n",
              "      <td>No</td>\n",
              "      <td>Rochor</td>\n",
              "      <td>1.30292</td>\n",
              "      <td>103.85800</td>\n",
              "      <td>Private room</td>\n",
              "      <td>...</td>\n",
              "      <td>3.50</td>\n",
              "      <td>3.50</td>\n",
              "      <td>4.50</td>\n",
              "      <td>4.00</td>\n",
              "      <td>4.50</td>\n",
              "      <td>4.00</td>\n",
              "      <td>No</td>\n",
              "      <td>0.04</td>\n",
              "      <td>3.0</td>\n",
              "      <td>30.0</td>\n",
              "    </tr>\n",
              "    <tr>\n",
              "      <th>51</th>\n",
              "      <td>1678744</td>\n",
              "      <td>NaN</td>\n",
              "      <td>NaN</td>\n",
              "      <td>NaN</td>\n",
              "      <td>No</td>\n",
              "      <td>Yes</td>\n",
              "      <td>Outram</td>\n",
              "      <td>1.28405</td>\n",
              "      <td>103.84424</td>\n",
              "      <td>Shared room</td>\n",
              "      <td>...</td>\n",
              "      <td>4.65</td>\n",
              "      <td>4.43</td>\n",
              "      <td>4.84</td>\n",
              "      <td>4.79</td>\n",
              "      <td>4.86</td>\n",
              "      <td>4.67</td>\n",
              "      <td>No</td>\n",
              "      <td>1.52</td>\n",
              "      <td>1.0</td>\n",
              "      <td>63.0</td>\n",
              "    </tr>\n",
              "    <tr>\n",
              "      <th>52</th>\n",
              "      <td>1678754</td>\n",
              "      <td>NaN</td>\n",
              "      <td>NaN</td>\n",
              "      <td>NaN</td>\n",
              "      <td>No</td>\n",
              "      <td>Yes</td>\n",
              "      <td>Outram</td>\n",
              "      <td>1.28405</td>\n",
              "      <td>103.84424</td>\n",
              "      <td>Hotel room</td>\n",
              "      <td>...</td>\n",
              "      <td>5.00</td>\n",
              "      <td>4.50</td>\n",
              "      <td>5.00</td>\n",
              "      <td>5.00</td>\n",
              "      <td>5.00</td>\n",
              "      <td>5.00</td>\n",
              "      <td>No</td>\n",
              "      <td>0.03</td>\n",
              "      <td>6.0</td>\n",
              "      <td>63.0</td>\n",
              "    </tr>\n",
              "    <tr>\n",
              "      <th>53</th>\n",
              "      <td>1678755</td>\n",
              "      <td>NaN</td>\n",
              "      <td>NaN</td>\n",
              "      <td>NaN</td>\n",
              "      <td>No</td>\n",
              "      <td>Yes</td>\n",
              "      <td>Outram</td>\n",
              "      <td>1.28405</td>\n",
              "      <td>103.84424</td>\n",
              "      <td>Hotel room</td>\n",
              "      <td>...</td>\n",
              "      <td>4.72</td>\n",
              "      <td>4.66</td>\n",
              "      <td>4.88</td>\n",
              "      <td>4.85</td>\n",
              "      <td>4.90</td>\n",
              "      <td>4.62</td>\n",
              "      <td>No</td>\n",
              "      <td>0.97</td>\n",
              "      <td>1.0</td>\n",
              "      <td>63.0</td>\n",
              "    </tr>\n",
              "    <tr>\n",
              "      <th>72</th>\n",
              "      <td>2547370</td>\n",
              "      <td>NaN</td>\n",
              "      <td>NaN</td>\n",
              "      <td>NaN</td>\n",
              "      <td>No</td>\n",
              "      <td>No</td>\n",
              "      <td>Rochor</td>\n",
              "      <td>1.30154</td>\n",
              "      <td>103.85941</td>\n",
              "      <td>Private room</td>\n",
              "      <td>...</td>\n",
              "      <td>4.50</td>\n",
              "      <td>3.00</td>\n",
              "      <td>5.00</td>\n",
              "      <td>5.00</td>\n",
              "      <td>4.00</td>\n",
              "      <td>4.00</td>\n",
              "      <td>No</td>\n",
              "      <td>0.05</td>\n",
              "      <td>4.0</td>\n",
              "      <td>27.5</td>\n",
              "    </tr>\n",
              "    <tr>\n",
              "      <th>...</th>\n",
              "      <td>...</td>\n",
              "      <td>...</td>\n",
              "      <td>...</td>\n",
              "      <td>...</td>\n",
              "      <td>...</td>\n",
              "      <td>...</td>\n",
              "      <td>...</td>\n",
              "      <td>...</td>\n",
              "      <td>...</td>\n",
              "      <td>...</td>\n",
              "      <td>...</td>\n",
              "      <td>...</td>\n",
              "      <td>...</td>\n",
              "      <td>...</td>\n",
              "      <td>...</td>\n",
              "      <td>...</td>\n",
              "      <td>...</td>\n",
              "      <td>...</td>\n",
              "      <td>...</td>\n",
              "      <td>...</td>\n",
              "      <td>...</td>\n",
              "    </tr>\n",
              "    <tr>\n",
              "      <th>2470</th>\n",
              "      <td>41032965</td>\n",
              "      <td>NaN</td>\n",
              "      <td>NaN</td>\n",
              "      <td>NaN</td>\n",
              "      <td>No</td>\n",
              "      <td>Yes</td>\n",
              "      <td>Outram</td>\n",
              "      <td>1.28038</td>\n",
              "      <td>103.84195</td>\n",
              "      <td>Private room</td>\n",
              "      <td>...</td>\n",
              "      <td>5.00</td>\n",
              "      <td>5.00</td>\n",
              "      <td>5.00</td>\n",
              "      <td>5.00</td>\n",
              "      <td>5.00</td>\n",
              "      <td>4.00</td>\n",
              "      <td>Yes</td>\n",
              "      <td>0.04</td>\n",
              "      <td>1.0</td>\n",
              "      <td>208.0</td>\n",
              "    </tr>\n",
              "    <tr>\n",
              "      <th>2581</th>\n",
              "      <td>42104603</td>\n",
              "      <td>NaN</td>\n",
              "      <td>NaN</td>\n",
              "      <td>NaN</td>\n",
              "      <td>No</td>\n",
              "      <td>Yes</td>\n",
              "      <td>Outram</td>\n",
              "      <td>1.28152</td>\n",
              "      <td>103.84099</td>\n",
              "      <td>Private room</td>\n",
              "      <td>...</td>\n",
              "      <td>5.00</td>\n",
              "      <td>5.00</td>\n",
              "      <td>5.00</td>\n",
              "      <td>5.00</td>\n",
              "      <td>5.00</td>\n",
              "      <td>5.00</td>\n",
              "      <td>Yes</td>\n",
              "      <td>0.04</td>\n",
              "      <td>1.0</td>\n",
              "      <td>196.0</td>\n",
              "    </tr>\n",
              "    <tr>\n",
              "      <th>2735</th>\n",
              "      <td>43174323</td>\n",
              "      <td>NaN</td>\n",
              "      <td>NaN</td>\n",
              "      <td>NaN</td>\n",
              "      <td>No</td>\n",
              "      <td>Yes</td>\n",
              "      <td>Downtown Core</td>\n",
              "      <td>1.27563</td>\n",
              "      <td>103.84849</td>\n",
              "      <td>Private room</td>\n",
              "      <td>...</td>\n",
              "      <td>5.00</td>\n",
              "      <td>5.00</td>\n",
              "      <td>5.00</td>\n",
              "      <td>5.00</td>\n",
              "      <td>5.00</td>\n",
              "      <td>4.50</td>\n",
              "      <td>Yes</td>\n",
              "      <td>0.13</td>\n",
              "      <td>6.0</td>\n",
              "      <td>159.0</td>\n",
              "    </tr>\n",
              "    <tr>\n",
              "      <th>2736</th>\n",
              "      <td>43175252</td>\n",
              "      <td>NaN</td>\n",
              "      <td>NaN</td>\n",
              "      <td>NaN</td>\n",
              "      <td>No</td>\n",
              "      <td>Yes</td>\n",
              "      <td>Downtown Core</td>\n",
              "      <td>1.27726</td>\n",
              "      <td>103.84748</td>\n",
              "      <td>Entire home/apt</td>\n",
              "      <td>...</td>\n",
              "      <td>5.00</td>\n",
              "      <td>5.00</td>\n",
              "      <td>5.00</td>\n",
              "      <td>5.00</td>\n",
              "      <td>5.00</td>\n",
              "      <td>5.00</td>\n",
              "      <td>Yes</td>\n",
              "      <td>0.08</td>\n",
              "      <td>1.0</td>\n",
              "      <td>194.5</td>\n",
              "    </tr>\n",
              "    <tr>\n",
              "      <th>2826</th>\n",
              "      <td>43737197</td>\n",
              "      <td>NaN</td>\n",
              "      <td>NaN</td>\n",
              "      <td>NaN</td>\n",
              "      <td>No</td>\n",
              "      <td>Yes</td>\n",
              "      <td>Rochor</td>\n",
              "      <td>1.30545</td>\n",
              "      <td>103.85881</td>\n",
              "      <td>Private room</td>\n",
              "      <td>...</td>\n",
              "      <td>5.00</td>\n",
              "      <td>5.00</td>\n",
              "      <td>5.00</td>\n",
              "      <td>5.00</td>\n",
              "      <td>5.00</td>\n",
              "      <td>5.00</td>\n",
              "      <td>Yes</td>\n",
              "      <td>0.05</td>\n",
              "      <td>1.0</td>\n",
              "      <td>103.0</td>\n",
              "    </tr>\n",
              "  </tbody>\n",
              "</table>\n",
              "<p>76 rows × 29 columns</p>\n",
              "</div>\n",
              "      <button class=\"colab-df-convert\" onclick=\"convertToInteractive('df-cee5e7ac-faaa-46ef-a69c-4e7a950dcd5f')\"\n",
              "              title=\"Convert this dataframe to an interactive table.\"\n",
              "              style=\"display:none;\">\n",
              "        \n",
              "  <svg xmlns=\"http://www.w3.org/2000/svg\" height=\"24px\"viewBox=\"0 0 24 24\"\n",
              "       width=\"24px\">\n",
              "    <path d=\"M0 0h24v24H0V0z\" fill=\"none\"/>\n",
              "    <path d=\"M18.56 5.44l.94 2.06.94-2.06 2.06-.94-2.06-.94-.94-2.06-.94 2.06-2.06.94zm-11 1L8.5 8.5l.94-2.06 2.06-.94-2.06-.94L8.5 2.5l-.94 2.06-2.06.94zm10 10l.94 2.06.94-2.06 2.06-.94-2.06-.94-.94-2.06-.94 2.06-2.06.94z\"/><path d=\"M17.41 7.96l-1.37-1.37c-.4-.4-.92-.59-1.43-.59-.52 0-1.04.2-1.43.59L10.3 9.45l-7.72 7.72c-.78.78-.78 2.05 0 2.83L4 21.41c.39.39.9.59 1.41.59.51 0 1.02-.2 1.41-.59l7.78-7.78 2.81-2.81c.8-.78.8-2.07 0-2.86zM5.41 20L4 18.59l7.72-7.72 1.47 1.35L5.41 20z\"/>\n",
              "  </svg>\n",
              "      </button>\n",
              "      \n",
              "  <style>\n",
              "    .colab-df-container {\n",
              "      display:flex;\n",
              "      flex-wrap:wrap;\n",
              "      gap: 12px;\n",
              "    }\n",
              "\n",
              "    .colab-df-convert {\n",
              "      background-color: #E8F0FE;\n",
              "      border: none;\n",
              "      border-radius: 50%;\n",
              "      cursor: pointer;\n",
              "      display: none;\n",
              "      fill: #1967D2;\n",
              "      height: 32px;\n",
              "      padding: 0 0 0 0;\n",
              "      width: 32px;\n",
              "    }\n",
              "\n",
              "    .colab-df-convert:hover {\n",
              "      background-color: #E2EBFA;\n",
              "      box-shadow: 0px 1px 2px rgba(60, 64, 67, 0.3), 0px 1px 3px 1px rgba(60, 64, 67, 0.15);\n",
              "      fill: #174EA6;\n",
              "    }\n",
              "\n",
              "    [theme=dark] .colab-df-convert {\n",
              "      background-color: #3B4455;\n",
              "      fill: #D2E3FC;\n",
              "    }\n",
              "\n",
              "    [theme=dark] .colab-df-convert:hover {\n",
              "      background-color: #434B5C;\n",
              "      box-shadow: 0px 1px 3px 1px rgba(0, 0, 0, 0.15);\n",
              "      filter: drop-shadow(0px 1px 2px rgba(0, 0, 0, 0.3));\n",
              "      fill: #FFFFFF;\n",
              "    }\n",
              "  </style>\n",
              "\n",
              "      <script>\n",
              "        const buttonEl =\n",
              "          document.querySelector('#df-cee5e7ac-faaa-46ef-a69c-4e7a950dcd5f button.colab-df-convert');\n",
              "        buttonEl.style.display =\n",
              "          google.colab.kernel.accessAllowed ? 'block' : 'none';\n",
              "\n",
              "        async function convertToInteractive(key) {\n",
              "          const element = document.querySelector('#df-cee5e7ac-faaa-46ef-a69c-4e7a950dcd5f');\n",
              "          const dataTable =\n",
              "            await google.colab.kernel.invokeFunction('convertToInteractive',\n",
              "                                                     [key], {});\n",
              "          if (!dataTable) return;\n",
              "\n",
              "          const docLinkHtml = 'Like what you see? Visit the ' +\n",
              "            '<a target=\"_blank\" href=https://colab.research.google.com/notebooks/data_table.ipynb>data table notebook</a>'\n",
              "            + ' to learn more about interactive tables.';\n",
              "          element.innerHTML = '';\n",
              "          dataTable['output_type'] = 'display_data';\n",
              "          await google.colab.output.renderOutput(dataTable, element);\n",
              "          const docLink = document.createElement('div');\n",
              "          docLink.innerHTML = docLinkHtml;\n",
              "          element.appendChild(docLink);\n",
              "        }\n",
              "      </script>\n",
              "    </div>\n",
              "  </div>\n",
              "  "
            ]
          },
          "metadata": {},
          "execution_count": 21
        }
      ]
    },
    {
      "cell_type": "markdown",
      "source": [
        "**Regardless of the 'Super host' status, the majority of the hosts respond to their customers within a few hours. However, it is difficult to determine whether there is a customer has contacted the host yet. Therefore, the missing values of the 'host_response_time' column will be filled with 'Unknown'.**"
      ],
      "metadata": {
        "id": "Zq2qg9qaNLlO"
      }
    },
    {
      "cell_type": "code",
      "source": [
        "#fill data\n",
        "listing_central['host_response_time'] = listing_central[['host_response_time']].fillna('Unknown')"
      ],
      "metadata": {
        "colab": {
          "base_uri": "https://localhost:8080/"
        },
        "id": "wkaTRXUENReO",
        "outputId": "eb20bc20-ea63-41d6-861d-ae4bf93f3c9f"
      },
      "execution_count": 22,
      "outputs": [
        {
          "output_type": "stream",
          "name": "stderr",
          "text": [
            "/usr/local/lib/python3.7/dist-packages/ipykernel_launcher.py:2: SettingWithCopyWarning: \n",
            "A value is trying to be set on a copy of a slice from a DataFrame.\n",
            "Try using .loc[row_indexer,col_indexer] = value instead\n",
            "\n",
            "See the caveats in the documentation: https://pandas.pydata.org/pandas-docs/stable/user_guide/indexing.html#returning-a-view-versus-a-copy\n",
            "  \n"
          ]
        }
      ]
    },
    {
      "cell_type": "markdown",
      "source": [
        "#### host_acceptance_rate"
      ],
      "metadata": {
        "id": "mRHjnoitRryV"
      }
    },
    {
      "cell_type": "code",
      "source": [
        "#check listings containing missing values in 'host_acceptance_rate' column that has no review\n",
        "listing_central[(listing_central['host_acceptance_rate'].isna()) & (listing_central['number_of_reviews'] ==0)].shape"
      ],
      "metadata": {
        "colab": {
          "base_uri": "https://localhost:8080/"
        },
        "id": "BINMLswxREDI",
        "outputId": "116dd5af-ebdb-4e1c-c067-686f546df393"
      },
      "execution_count": 23,
      "outputs": [
        {
          "output_type": "execute_result",
          "data": {
            "text/plain": [
              "(92, 29)"
            ]
          },
          "metadata": {},
          "execution_count": 23
        }
      ]
    },
    {
      "cell_type": "markdown",
      "source": [
        "**For listings that have no review, the missing value will be filled by 0—assuming listings having at least one review used to be booked before.**"
      ],
      "metadata": {
        "id": "WqEHVm06Sg5E"
      }
    },
    {
      "cell_type": "code",
      "source": [
        "#fill data\n",
        "listing_central.loc[listing_central['number_of_reviews'] ==0,'host_acceptance_rate'] = listing_central.loc[listing_central['number_of_reviews'] ==0,'host_acceptance_rate'].fillna(0)"
      ],
      "metadata": {
        "colab": {
          "base_uri": "https://localhost:8080/"
        },
        "id": "cQRPuyE9RD_l",
        "outputId": "02bb107d-3474-4485-dea3-c392f40fdbbc"
      },
      "execution_count": 24,
      "outputs": [
        {
          "output_type": "stream",
          "name": "stderr",
          "text": [
            "/usr/local/lib/python3.7/dist-packages/pandas/core/indexing.py:1773: SettingWithCopyWarning: \n",
            "A value is trying to be set on a copy of a slice from a DataFrame.\n",
            "Try using .loc[row_indexer,col_indexer] = value instead\n",
            "\n",
            "See the caveats in the documentation: https://pandas.pydata.org/pandas-docs/stable/user_guide/indexing.html#returning-a-view-versus-a-copy\n",
            "  self._setitem_single_column(ilocs[0], value, pi)\n"
          ]
        }
      ]
    },
    {
      "cell_type": "code",
      "source": [
        "listing_central.isna().sum()"
      ],
      "metadata": {
        "colab": {
          "base_uri": "https://localhost:8080/"
        },
        "id": "5JTHgbT0TA9b",
        "outputId": "78467f01-de52-4f33-eafb-74a8c9e3b697"
      },
      "execution_count": 25,
      "outputs": [
        {
          "output_type": "execute_result",
          "data": {
            "text/plain": [
              "id                               0\n",
              "host_response_time               0\n",
              "host_response_rate             134\n",
              "host_acceptance_rate           132\n",
              "host_is_superhost                0\n",
              "host_identity_verified           0\n",
              "neighbourhood_cleansed           0\n",
              "latitude                         0\n",
              "longitude                        0\n",
              "room_type                        0\n",
              "accommodates                     0\n",
              "bathrooms                       18\n",
              "bedrooms                       203\n",
              "price                            0\n",
              "has_availability                 0\n",
              "number_of_reviews                0\n",
              "number_of_reviews_ltm            0\n",
              "number_of_reviews_l30d           0\n",
              "review_scores_rating           585\n",
              "review_scores_accuracy         597\n",
              "review_scores_cleanliness      597\n",
              "review_scores_checkin          597\n",
              "review_scores_communication    596\n",
              "review_scores_location         596\n",
              "review_scores_value            596\n",
              "instant_bookable                 0\n",
              "reviews_per_month              585\n",
              "total_beds                     248\n",
              "price_per_person                 0\n",
              "dtype: int64"
            ]
          },
          "metadata": {},
          "execution_count": 25
        }
      ]
    },
    {
      "cell_type": "code",
      "source": [
        "listing_central.groupby('host_is_superhost')['host_acceptance_rate'].mean()"
      ],
      "metadata": {
        "colab": {
          "base_uri": "https://localhost:8080/"
        },
        "id": "QNe6qGiRTQad",
        "outputId": "47973c31-53ac-4984-cc63-61beb351d71f"
      },
      "execution_count": 26,
      "outputs": [
        {
          "output_type": "execute_result",
          "data": {
            "text/plain": [
              "host_is_superhost\n",
              "No     55.793984\n",
              "Yes    83.703883\n",
              "Name: host_acceptance_rate, dtype: float64"
            ]
          },
          "metadata": {},
          "execution_count": 26
        }
      ]
    },
    {
      "cell_type": "markdown",
      "source": [
        "**The average acceptance rates between superhost host and non-superhost host are different. Assuming listings having at least one review used to be booked before, I filled the missing value in the 'host_acceptance_rate' with the mean response rate in each type of host.**"
      ],
      "metadata": {
        "id": "K6ESXNI8TWjm"
      }
    },
    {
      "cell_type": "code",
      "source": [
        "#fill data\n",
        "listing_central.loc[listing_central['host_is_superhost'] == 'Yes','host_acceptance_rate'] = listing_central.loc[listing_central['host_is_superhost'] == 'Yes','host_acceptance_rate'].fillna(listing_central.groupby('host_is_superhost')['host_acceptance_rate'].mean()[1])\n",
        "listing_central.loc[listing_central['host_is_superhost'] == 'No','host_acceptance_rate'] = listing_central.loc[listing_central['host_is_superhost'] == 'No','host_acceptance_rate'].fillna(listing_central.groupby('host_is_superhost')['host_acceptance_rate'].mean()[0])\n"
      ],
      "metadata": {
        "colab": {
          "base_uri": "https://localhost:8080/"
        },
        "id": "UKPT2bfbTV0J",
        "outputId": "ef8ffdc5-e7ed-49a7-bf07-3c5f2bead783"
      },
      "execution_count": 27,
      "outputs": [
        {
          "output_type": "stream",
          "name": "stderr",
          "text": [
            "/usr/local/lib/python3.7/dist-packages/pandas/core/indexing.py:1773: SettingWithCopyWarning: \n",
            "A value is trying to be set on a copy of a slice from a DataFrame.\n",
            "Try using .loc[row_indexer,col_indexer] = value instead\n",
            "\n",
            "See the caveats in the documentation: https://pandas.pydata.org/pandas-docs/stable/user_guide/indexing.html#returning-a-view-versus-a-copy\n",
            "  self._setitem_single_column(ilocs[0], value, pi)\n"
          ]
        }
      ]
    },
    {
      "cell_type": "code",
      "source": [
        "listing_central.isna().sum()"
      ],
      "metadata": {
        "colab": {
          "base_uri": "https://localhost:8080/"
        },
        "id": "LfOw_P76VAIp",
        "outputId": "4468c28b-cf48-45bb-d778-bceb80df178b"
      },
      "execution_count": 28,
      "outputs": [
        {
          "output_type": "execute_result",
          "data": {
            "text/plain": [
              "id                               0\n",
              "host_response_time               0\n",
              "host_response_rate             134\n",
              "host_acceptance_rate             0\n",
              "host_is_superhost                0\n",
              "host_identity_verified           0\n",
              "neighbourhood_cleansed           0\n",
              "latitude                         0\n",
              "longitude                        0\n",
              "room_type                        0\n",
              "accommodates                     0\n",
              "bathrooms                       18\n",
              "bedrooms                       203\n",
              "price                            0\n",
              "has_availability                 0\n",
              "number_of_reviews                0\n",
              "number_of_reviews_ltm            0\n",
              "number_of_reviews_l30d           0\n",
              "review_scores_rating           585\n",
              "review_scores_accuracy         597\n",
              "review_scores_cleanliness      597\n",
              "review_scores_checkin          597\n",
              "review_scores_communication    596\n",
              "review_scores_location         596\n",
              "review_scores_value            596\n",
              "instant_bookable                 0\n",
              "reviews_per_month              585\n",
              "total_beds                     248\n",
              "price_per_person                 0\n",
              "dtype: int64"
            ]
          },
          "metadata": {},
          "execution_count": 28
        }
      ]
    },
    {
      "cell_type": "markdown",
      "source": [
        "### host_response_rate"
      ],
      "metadata": {
        "id": "XtRoXdzSVG8b"
      }
    },
    {
      "cell_type": "markdown",
      "source": [
        "**I filled the missing value in the 'host_response_rate' the same way as above**"
      ],
      "metadata": {
        "id": "klpZpJ06VLMc"
      }
    },
    {
      "cell_type": "code",
      "source": [
        "#check listings containing missing values in 'host_response_rate' column that has no review\n",
        "listing_central[(listing_central['host_response_rate'].isna()) & (listing_central['number_of_reviews'] ==0)].shape"
      ],
      "metadata": {
        "colab": {
          "base_uri": "https://localhost:8080/"
        },
        "id": "4SPhjJUlVfX5",
        "outputId": "d71279fc-6da1-4f03-84f1-3b0c94b15bbd"
      },
      "execution_count": 29,
      "outputs": [
        {
          "output_type": "execute_result",
          "data": {
            "text/plain": [
              "(58, 29)"
            ]
          },
          "metadata": {},
          "execution_count": 29
        }
      ]
    },
    {
      "cell_type": "code",
      "source": [
        "#fill data\n",
        "listing_central.loc[listing_central['number_of_reviews'] ==0,'host_response_rate'] = listing_central.loc[listing_central['number_of_reviews'] ==0,'host_response_rate'].fillna(0)"
      ],
      "metadata": {
        "colab": {
          "base_uri": "https://localhost:8080/"
        },
        "id": "Qby-ErmtVsKQ",
        "outputId": "51be6ee2-208a-40f6-b9e3-37a205fde53d"
      },
      "execution_count": 30,
      "outputs": [
        {
          "output_type": "stream",
          "name": "stderr",
          "text": [
            "/usr/local/lib/python3.7/dist-packages/pandas/core/indexing.py:1773: SettingWithCopyWarning: \n",
            "A value is trying to be set on a copy of a slice from a DataFrame.\n",
            "Try using .loc[row_indexer,col_indexer] = value instead\n",
            "\n",
            "See the caveats in the documentation: https://pandas.pydata.org/pandas-docs/stable/user_guide/indexing.html#returning-a-view-versus-a-copy\n",
            "  self._setitem_single_column(ilocs[0], value, pi)\n"
          ]
        }
      ]
    },
    {
      "cell_type": "code",
      "source": [
        "listing_central.groupby('host_is_superhost')['host_response_rate'].mean()"
      ],
      "metadata": {
        "colab": {
          "base_uri": "https://localhost:8080/"
        },
        "id": "3hWQxWhyV0Xf",
        "outputId": "dda93f19-c945-4114-aa68-35432607b1bf"
      },
      "execution_count": 31,
      "outputs": [
        {
          "output_type": "execute_result",
          "data": {
            "text/plain": [
              "host_is_superhost\n",
              "No     72.778646\n",
              "Yes    96.053269\n",
              "Name: host_response_rate, dtype: float64"
            ]
          },
          "metadata": {},
          "execution_count": 31
        }
      ]
    },
    {
      "cell_type": "code",
      "source": [
        "#fill data\n",
        "listing_central.loc[listing_central['host_is_superhost'] == 'Yes','host_response_rate'] = listing_central.loc[listing_central['host_is_superhost'] == 'Yes','host_response_rate'].fillna(listing_central.groupby('host_is_superhost')['host_response_rate'].mean()[1])\n",
        "listing_central.loc[listing_central['host_is_superhost'] == 'No','host_response_rate'] = listing_central.loc[listing_central['host_is_superhost'] == 'No','host_response_rate'].fillna(listing_central.groupby('host_is_superhost')['host_response_rate'].mean()[0])\n"
      ],
      "metadata": {
        "colab": {
          "base_uri": "https://localhost:8080/"
        },
        "id": "ObK-4ok_V6Ty",
        "outputId": "b15da6d0-31cd-4d9e-b6ce-f7d088b1eb75"
      },
      "execution_count": 32,
      "outputs": [
        {
          "output_type": "stream",
          "name": "stderr",
          "text": [
            "/usr/local/lib/python3.7/dist-packages/pandas/core/indexing.py:1773: SettingWithCopyWarning: \n",
            "A value is trying to be set on a copy of a slice from a DataFrame.\n",
            "Try using .loc[row_indexer,col_indexer] = value instead\n",
            "\n",
            "See the caveats in the documentation: https://pandas.pydata.org/pandas-docs/stable/user_guide/indexing.html#returning-a-view-versus-a-copy\n",
            "  self._setitem_single_column(ilocs[0], value, pi)\n"
          ]
        }
      ]
    },
    {
      "cell_type": "markdown",
      "source": [
        "### review_scores_rating"
      ],
      "metadata": {
        "id": "OTqqExXYMle_"
      }
    },
    {
      "cell_type": "code",
      "source": [
        "#check listings containing missing values in 'review_scores_rating' column that has no review\n",
        "listing_central[(listing_central['review_scores_rating'].isna()) & (listing_central['number_of_reviews'] ==0)].shape"
      ],
      "metadata": {
        "colab": {
          "base_uri": "https://localhost:8080/"
        },
        "id": "ZB4gge_Rt4R0",
        "outputId": "30ab57f5-e3c1-4ece-902f-abcda495b4a7"
      },
      "execution_count": 33,
      "outputs": [
        {
          "output_type": "execute_result",
          "data": {
            "text/plain": [
              "(585, 29)"
            ]
          },
          "metadata": {},
          "execution_count": 33
        }
      ]
    },
    {
      "cell_type": "markdown",
      "source": [
        "**585 missing values in the 'review_scores_rating' column belongs to listings that have no review. So, we cannot fill the missing value**"
      ],
      "metadata": {
        "id": "EaXCS3XO0uJF"
      }
    },
    {
      "cell_type": "code",
      "source": [
        "listing_central.isna().sum()"
      ],
      "metadata": {
        "colab": {
          "base_uri": "https://localhost:8080/"
        },
        "id": "fkEtH2iQWkXA",
        "outputId": "29037c85-3c09-40cc-a6b8-b1eae9b2403f"
      },
      "execution_count": 34,
      "outputs": [
        {
          "output_type": "execute_result",
          "data": {
            "text/plain": [
              "id                               0\n",
              "host_response_time               0\n",
              "host_response_rate               0\n",
              "host_acceptance_rate             0\n",
              "host_is_superhost                0\n",
              "host_identity_verified           0\n",
              "neighbourhood_cleansed           0\n",
              "latitude                         0\n",
              "longitude                        0\n",
              "room_type                        0\n",
              "accommodates                     0\n",
              "bathrooms                       18\n",
              "bedrooms                       203\n",
              "price                            0\n",
              "has_availability                 0\n",
              "number_of_reviews                0\n",
              "number_of_reviews_ltm            0\n",
              "number_of_reviews_l30d           0\n",
              "review_scores_rating           585\n",
              "review_scores_accuracy         597\n",
              "review_scores_cleanliness      597\n",
              "review_scores_checkin          597\n",
              "review_scores_communication    596\n",
              "review_scores_location         596\n",
              "review_scores_value            596\n",
              "instant_bookable                 0\n",
              "reviews_per_month              585\n",
              "total_beds                     248\n",
              "price_per_person                 0\n",
              "dtype: int64"
            ]
          },
          "metadata": {},
          "execution_count": 34
        }
      ]
    },
    {
      "cell_type": "markdown",
      "source": [
        "## A5 - Detect outliers"
      ],
      "metadata": {
        "id": "NvvppQhj40ED"
      }
    },
    {
      "cell_type": "code",
      "source": [
        "listing_central.describe()"
      ],
      "metadata": {
        "colab": {
          "base_uri": "https://localhost:8080/",
          "height": 393
        },
        "id": "SS1Qjq5kSoOF",
        "outputId": "98601c18-d7ef-4f77-d7ae-6ee331ec6aad"
      },
      "execution_count": 35,
      "outputs": [
        {
          "output_type": "execute_result",
          "data": {
            "text/plain": [
              "                 id  host_response_rate  host_acceptance_rate     latitude  \\\n",
              "count  1.641000e+03         1641.000000           1641.000000  1641.000000   \n",
              "mean   3.081331e+07           78.664672             62.852246     1.299882   \n",
              "std    1.442385e+07           32.616240             35.923697     0.014844   \n",
              "min    3.559550e+05            0.000000              0.000000     1.273030   \n",
              "25%    1.983120e+07           72.778646             33.000000     1.283380   \n",
              "50%    3.262196e+07           95.000000             81.000000     1.303640   \n",
              "75%    4.265477e+07          100.000000             96.000000     1.312260   \n",
              "max    5.391043e+07          100.000000            100.000000     1.330360   \n",
              "\n",
              "         longitude  accommodates    bathrooms     bedrooms        price  \\\n",
              "count  1641.000000   1641.000000  1623.000000  1438.000000  1641.000000   \n",
              "mean    103.859860      2.987203     1.756007     1.231572   168.508836   \n",
              "std       0.015202      2.744032     1.591899     0.619721   275.036865   \n",
              "min     103.835090      1.000000     0.000000     1.000000    20.000000   \n",
              "25%     103.847130      1.000000     1.000000     1.000000    65.000000   \n",
              "50%     103.856740      2.000000     1.000000     1.000000   120.000000   \n",
              "75%     103.863750      4.000000     2.000000     1.000000   185.000000   \n",
              "max     103.905650     16.000000    21.000000     8.000000  7000.000000   \n",
              "\n",
              "       number_of_reviews  ...  review_scores_rating  review_scores_accuracy  \\\n",
              "count        1641.000000  ...           1056.000000             1044.000000   \n",
              "mean           14.621572  ...              4.512074                4.614224   \n",
              "std            33.235945  ...              0.738040                0.593856   \n",
              "min             0.000000  ...              0.000000                0.000000   \n",
              "25%             0.000000  ...              4.360000                4.500000   \n",
              "50%             1.000000  ...              4.730000                4.820000   \n",
              "75%            11.000000  ...              5.000000                5.000000   \n",
              "max           294.000000  ...              5.000000                5.000000   \n",
              "\n",
              "       review_scores_cleanliness  review_scores_checkin  \\\n",
              "count                1044.000000            1044.000000   \n",
              "mean                    4.485431               4.751561   \n",
              "std                     0.645396               0.511513   \n",
              "min                     0.000000               0.000000   \n",
              "25%                     4.250000               4.730000   \n",
              "50%                     4.690000               4.910000   \n",
              "75%                     5.000000               5.000000   \n",
              "max                     5.000000               5.000000   \n",
              "\n",
              "       review_scores_communication  review_scores_location  \\\n",
              "count                  1045.000000             1045.000000   \n",
              "mean                      4.737856                4.716048   \n",
              "std                       0.545481                0.484203   \n",
              "min                       0.000000                0.000000   \n",
              "25%                       4.710000                4.600000   \n",
              "50%                       4.920000                4.880000   \n",
              "75%                       5.000000                5.000000   \n",
              "max                       5.000000                5.000000   \n",
              "\n",
              "       review_scores_value  reviews_per_month   total_beds  price_per_person  \n",
              "count          1045.000000        1056.000000  1393.000000       1641.000000  \n",
              "mean              4.500201           0.564422     3.004307         73.035371  \n",
              "std               0.583510           0.947677     4.626260        185.880143  \n",
              "min               0.000000           0.010000     1.000000          1.500000  \n",
              "25%               4.330000           0.060000     1.000000         37.250000  \n",
              "50%               4.640000           0.210000     1.000000         54.000000  \n",
              "75%               4.950000           0.750000     4.000000         77.333333  \n",
              "max               5.000000          13.270000    54.000000       7000.000000  \n",
              "\n",
              "[8 rows x 22 columns]"
            ],
            "text/html": [
              "\n",
              "  <div id=\"df-f6abe758-10ec-4409-a221-ad90f5da8272\">\n",
              "    <div class=\"colab-df-container\">\n",
              "      <div>\n",
              "<style scoped>\n",
              "    .dataframe tbody tr th:only-of-type {\n",
              "        vertical-align: middle;\n",
              "    }\n",
              "\n",
              "    .dataframe tbody tr th {\n",
              "        vertical-align: top;\n",
              "    }\n",
              "\n",
              "    .dataframe thead th {\n",
              "        text-align: right;\n",
              "    }\n",
              "</style>\n",
              "<table border=\"1\" class=\"dataframe\">\n",
              "  <thead>\n",
              "    <tr style=\"text-align: right;\">\n",
              "      <th></th>\n",
              "      <th>id</th>\n",
              "      <th>host_response_rate</th>\n",
              "      <th>host_acceptance_rate</th>\n",
              "      <th>latitude</th>\n",
              "      <th>longitude</th>\n",
              "      <th>accommodates</th>\n",
              "      <th>bathrooms</th>\n",
              "      <th>bedrooms</th>\n",
              "      <th>price</th>\n",
              "      <th>number_of_reviews</th>\n",
              "      <th>...</th>\n",
              "      <th>review_scores_rating</th>\n",
              "      <th>review_scores_accuracy</th>\n",
              "      <th>review_scores_cleanliness</th>\n",
              "      <th>review_scores_checkin</th>\n",
              "      <th>review_scores_communication</th>\n",
              "      <th>review_scores_location</th>\n",
              "      <th>review_scores_value</th>\n",
              "      <th>reviews_per_month</th>\n",
              "      <th>total_beds</th>\n",
              "      <th>price_per_person</th>\n",
              "    </tr>\n",
              "  </thead>\n",
              "  <tbody>\n",
              "    <tr>\n",
              "      <th>count</th>\n",
              "      <td>1.641000e+03</td>\n",
              "      <td>1641.000000</td>\n",
              "      <td>1641.000000</td>\n",
              "      <td>1641.000000</td>\n",
              "      <td>1641.000000</td>\n",
              "      <td>1641.000000</td>\n",
              "      <td>1623.000000</td>\n",
              "      <td>1438.000000</td>\n",
              "      <td>1641.000000</td>\n",
              "      <td>1641.000000</td>\n",
              "      <td>...</td>\n",
              "      <td>1056.000000</td>\n",
              "      <td>1044.000000</td>\n",
              "      <td>1044.000000</td>\n",
              "      <td>1044.000000</td>\n",
              "      <td>1045.000000</td>\n",
              "      <td>1045.000000</td>\n",
              "      <td>1045.000000</td>\n",
              "      <td>1056.000000</td>\n",
              "      <td>1393.000000</td>\n",
              "      <td>1641.000000</td>\n",
              "    </tr>\n",
              "    <tr>\n",
              "      <th>mean</th>\n",
              "      <td>3.081331e+07</td>\n",
              "      <td>78.664672</td>\n",
              "      <td>62.852246</td>\n",
              "      <td>1.299882</td>\n",
              "      <td>103.859860</td>\n",
              "      <td>2.987203</td>\n",
              "      <td>1.756007</td>\n",
              "      <td>1.231572</td>\n",
              "      <td>168.508836</td>\n",
              "      <td>14.621572</td>\n",
              "      <td>...</td>\n",
              "      <td>4.512074</td>\n",
              "      <td>4.614224</td>\n",
              "      <td>4.485431</td>\n",
              "      <td>4.751561</td>\n",
              "      <td>4.737856</td>\n",
              "      <td>4.716048</td>\n",
              "      <td>4.500201</td>\n",
              "      <td>0.564422</td>\n",
              "      <td>3.004307</td>\n",
              "      <td>73.035371</td>\n",
              "    </tr>\n",
              "    <tr>\n",
              "      <th>std</th>\n",
              "      <td>1.442385e+07</td>\n",
              "      <td>32.616240</td>\n",
              "      <td>35.923697</td>\n",
              "      <td>0.014844</td>\n",
              "      <td>0.015202</td>\n",
              "      <td>2.744032</td>\n",
              "      <td>1.591899</td>\n",
              "      <td>0.619721</td>\n",
              "      <td>275.036865</td>\n",
              "      <td>33.235945</td>\n",
              "      <td>...</td>\n",
              "      <td>0.738040</td>\n",
              "      <td>0.593856</td>\n",
              "      <td>0.645396</td>\n",
              "      <td>0.511513</td>\n",
              "      <td>0.545481</td>\n",
              "      <td>0.484203</td>\n",
              "      <td>0.583510</td>\n",
              "      <td>0.947677</td>\n",
              "      <td>4.626260</td>\n",
              "      <td>185.880143</td>\n",
              "    </tr>\n",
              "    <tr>\n",
              "      <th>min</th>\n",
              "      <td>3.559550e+05</td>\n",
              "      <td>0.000000</td>\n",
              "      <td>0.000000</td>\n",
              "      <td>1.273030</td>\n",
              "      <td>103.835090</td>\n",
              "      <td>1.000000</td>\n",
              "      <td>0.000000</td>\n",
              "      <td>1.000000</td>\n",
              "      <td>20.000000</td>\n",
              "      <td>0.000000</td>\n",
              "      <td>...</td>\n",
              "      <td>0.000000</td>\n",
              "      <td>0.000000</td>\n",
              "      <td>0.000000</td>\n",
              "      <td>0.000000</td>\n",
              "      <td>0.000000</td>\n",
              "      <td>0.000000</td>\n",
              "      <td>0.000000</td>\n",
              "      <td>0.010000</td>\n",
              "      <td>1.000000</td>\n",
              "      <td>1.500000</td>\n",
              "    </tr>\n",
              "    <tr>\n",
              "      <th>25%</th>\n",
              "      <td>1.983120e+07</td>\n",
              "      <td>72.778646</td>\n",
              "      <td>33.000000</td>\n",
              "      <td>1.283380</td>\n",
              "      <td>103.847130</td>\n",
              "      <td>1.000000</td>\n",
              "      <td>1.000000</td>\n",
              "      <td>1.000000</td>\n",
              "      <td>65.000000</td>\n",
              "      <td>0.000000</td>\n",
              "      <td>...</td>\n",
              "      <td>4.360000</td>\n",
              "      <td>4.500000</td>\n",
              "      <td>4.250000</td>\n",
              "      <td>4.730000</td>\n",
              "      <td>4.710000</td>\n",
              "      <td>4.600000</td>\n",
              "      <td>4.330000</td>\n",
              "      <td>0.060000</td>\n",
              "      <td>1.000000</td>\n",
              "      <td>37.250000</td>\n",
              "    </tr>\n",
              "    <tr>\n",
              "      <th>50%</th>\n",
              "      <td>3.262196e+07</td>\n",
              "      <td>95.000000</td>\n",
              "      <td>81.000000</td>\n",
              "      <td>1.303640</td>\n",
              "      <td>103.856740</td>\n",
              "      <td>2.000000</td>\n",
              "      <td>1.000000</td>\n",
              "      <td>1.000000</td>\n",
              "      <td>120.000000</td>\n",
              "      <td>1.000000</td>\n",
              "      <td>...</td>\n",
              "      <td>4.730000</td>\n",
              "      <td>4.820000</td>\n",
              "      <td>4.690000</td>\n",
              "      <td>4.910000</td>\n",
              "      <td>4.920000</td>\n",
              "      <td>4.880000</td>\n",
              "      <td>4.640000</td>\n",
              "      <td>0.210000</td>\n",
              "      <td>1.000000</td>\n",
              "      <td>54.000000</td>\n",
              "    </tr>\n",
              "    <tr>\n",
              "      <th>75%</th>\n",
              "      <td>4.265477e+07</td>\n",
              "      <td>100.000000</td>\n",
              "      <td>96.000000</td>\n",
              "      <td>1.312260</td>\n",
              "      <td>103.863750</td>\n",
              "      <td>4.000000</td>\n",
              "      <td>2.000000</td>\n",
              "      <td>1.000000</td>\n",
              "      <td>185.000000</td>\n",
              "      <td>11.000000</td>\n",
              "      <td>...</td>\n",
              "      <td>5.000000</td>\n",
              "      <td>5.000000</td>\n",
              "      <td>5.000000</td>\n",
              "      <td>5.000000</td>\n",
              "      <td>5.000000</td>\n",
              "      <td>5.000000</td>\n",
              "      <td>4.950000</td>\n",
              "      <td>0.750000</td>\n",
              "      <td>4.000000</td>\n",
              "      <td>77.333333</td>\n",
              "    </tr>\n",
              "    <tr>\n",
              "      <th>max</th>\n",
              "      <td>5.391043e+07</td>\n",
              "      <td>100.000000</td>\n",
              "      <td>100.000000</td>\n",
              "      <td>1.330360</td>\n",
              "      <td>103.905650</td>\n",
              "      <td>16.000000</td>\n",
              "      <td>21.000000</td>\n",
              "      <td>8.000000</td>\n",
              "      <td>7000.000000</td>\n",
              "      <td>294.000000</td>\n",
              "      <td>...</td>\n",
              "      <td>5.000000</td>\n",
              "      <td>5.000000</td>\n",
              "      <td>5.000000</td>\n",
              "      <td>5.000000</td>\n",
              "      <td>5.000000</td>\n",
              "      <td>5.000000</td>\n",
              "      <td>5.000000</td>\n",
              "      <td>13.270000</td>\n",
              "      <td>54.000000</td>\n",
              "      <td>7000.000000</td>\n",
              "    </tr>\n",
              "  </tbody>\n",
              "</table>\n",
              "<p>8 rows × 22 columns</p>\n",
              "</div>\n",
              "      <button class=\"colab-df-convert\" onclick=\"convertToInteractive('df-f6abe758-10ec-4409-a221-ad90f5da8272')\"\n",
              "              title=\"Convert this dataframe to an interactive table.\"\n",
              "              style=\"display:none;\">\n",
              "        \n",
              "  <svg xmlns=\"http://www.w3.org/2000/svg\" height=\"24px\"viewBox=\"0 0 24 24\"\n",
              "       width=\"24px\">\n",
              "    <path d=\"M0 0h24v24H0V0z\" fill=\"none\"/>\n",
              "    <path d=\"M18.56 5.44l.94 2.06.94-2.06 2.06-.94-2.06-.94-.94-2.06-.94 2.06-2.06.94zm-11 1L8.5 8.5l.94-2.06 2.06-.94-2.06-.94L8.5 2.5l-.94 2.06-2.06.94zm10 10l.94 2.06.94-2.06 2.06-.94-2.06-.94-.94-2.06-.94 2.06-2.06.94z\"/><path d=\"M17.41 7.96l-1.37-1.37c-.4-.4-.92-.59-1.43-.59-.52 0-1.04.2-1.43.59L10.3 9.45l-7.72 7.72c-.78.78-.78 2.05 0 2.83L4 21.41c.39.39.9.59 1.41.59.51 0 1.02-.2 1.41-.59l7.78-7.78 2.81-2.81c.8-.78.8-2.07 0-2.86zM5.41 20L4 18.59l7.72-7.72 1.47 1.35L5.41 20z\"/>\n",
              "  </svg>\n",
              "      </button>\n",
              "      \n",
              "  <style>\n",
              "    .colab-df-container {\n",
              "      display:flex;\n",
              "      flex-wrap:wrap;\n",
              "      gap: 12px;\n",
              "    }\n",
              "\n",
              "    .colab-df-convert {\n",
              "      background-color: #E8F0FE;\n",
              "      border: none;\n",
              "      border-radius: 50%;\n",
              "      cursor: pointer;\n",
              "      display: none;\n",
              "      fill: #1967D2;\n",
              "      height: 32px;\n",
              "      padding: 0 0 0 0;\n",
              "      width: 32px;\n",
              "    }\n",
              "\n",
              "    .colab-df-convert:hover {\n",
              "      background-color: #E2EBFA;\n",
              "      box-shadow: 0px 1px 2px rgba(60, 64, 67, 0.3), 0px 1px 3px 1px rgba(60, 64, 67, 0.15);\n",
              "      fill: #174EA6;\n",
              "    }\n",
              "\n",
              "    [theme=dark] .colab-df-convert {\n",
              "      background-color: #3B4455;\n",
              "      fill: #D2E3FC;\n",
              "    }\n",
              "\n",
              "    [theme=dark] .colab-df-convert:hover {\n",
              "      background-color: #434B5C;\n",
              "      box-shadow: 0px 1px 3px 1px rgba(0, 0, 0, 0.15);\n",
              "      filter: drop-shadow(0px 1px 2px rgba(0, 0, 0, 0.3));\n",
              "      fill: #FFFFFF;\n",
              "    }\n",
              "  </style>\n",
              "\n",
              "      <script>\n",
              "        const buttonEl =\n",
              "          document.querySelector('#df-f6abe758-10ec-4409-a221-ad90f5da8272 button.colab-df-convert');\n",
              "        buttonEl.style.display =\n",
              "          google.colab.kernel.accessAllowed ? 'block' : 'none';\n",
              "\n",
              "        async function convertToInteractive(key) {\n",
              "          const element = document.querySelector('#df-f6abe758-10ec-4409-a221-ad90f5da8272');\n",
              "          const dataTable =\n",
              "            await google.colab.kernel.invokeFunction('convertToInteractive',\n",
              "                                                     [key], {});\n",
              "          if (!dataTable) return;\n",
              "\n",
              "          const docLinkHtml = 'Like what you see? Visit the ' +\n",
              "            '<a target=\"_blank\" href=https://colab.research.google.com/notebooks/data_table.ipynb>data table notebook</a>'\n",
              "            + ' to learn more about interactive tables.';\n",
              "          element.innerHTML = '';\n",
              "          dataTable['output_type'] = 'display_data';\n",
              "          await google.colab.output.renderOutput(dataTable, element);\n",
              "          const docLink = document.createElement('div');\n",
              "          docLink.innerHTML = docLinkHtml;\n",
              "          element.appendChild(docLink);\n",
              "        }\n",
              "      </script>\n",
              "    </div>\n",
              "  </div>\n",
              "  "
            ]
          },
          "metadata": {},
          "execution_count": 35
        }
      ]
    },
    {
      "cell_type": "code",
      "source": [
        "import matplotlib.pyplot as plt\n",
        "import seaborn as sns\n",
        "listing_central.iloc[:,2:].hist(figsize=(40,30), bins = 10)\n",
        "plt.show()"
      ],
      "metadata": {
        "colab": {
          "base_uri": "https://localhost:8080/",
          "height": 963
        },
        "id": "losW4iNhUJkw",
        "outputId": "a43742c7-1dfd-4d97-add9-c835bfb8e981"
      },
      "execution_count": 36,
      "outputs": [
        {
          "output_type": "display_data",
          "data": {
            "text/plain": [
              "<Figure size 2880x2160 with 25 Axes>"
            ],
            "image/png": "[encoded data removed]"
          },
          "metadata": {
            "needs_background": "light"
          }
        }
      ]
    },
    {
      "cell_type": "code",
      "metadata": {
        "id": "Vss_S6-VzgoI",
        "colab": {
          "base_uri": "https://localhost:8080/",
          "height": 606
        },
        "outputId": "66ed4705-7a26-4e33-935f-a623f568934b"
      },
      "source": [
        "# Outliers - listing.gz / review columns\n",
        "\n",
        "plt.style.use('seaborn')\n",
        "\n",
        "\n",
        "plt.figure(figsize=(20, 10))\n",
        "\n",
        "plt.subplot(331)\n",
        "rating = listing_central['host_response_rate'].reset_index()\n",
        "sns.boxplot(data=rating, x = 'host_response_rate')\n",
        "\n",
        "plt.subplot(332)\n",
        "accuracy = listing_central['host_acceptance_rate'].reset_index()\n",
        "sns.boxplot(data=accuracy, x = 'host_acceptance_rate')\n",
        "\n",
        "plt.subplot(333)\n",
        "checkin = listing_central['accommodates'].reset_index()\n",
        "sns.boxplot(data=checkin, x = 'accommodates')\n",
        "\n",
        "plt.subplot(334)\n",
        "communication = listing_central['bathrooms'].reset_index()\n",
        "sns.boxplot(data=communication, x = 'bathrooms')\n",
        "\n",
        "plt.subplot(335)\n",
        "location = listing_central['bedrooms'].reset_index()\n",
        "sns.boxplot(data=location, x = 'bedrooms')\n",
        "\n",
        "\n",
        "plt.subplot(337)\n",
        "value = listing_central['price'].reset_index()\n",
        "sns.boxplot(data=value, x = 'price')\n",
        "\n",
        "plt.subplot(338)\n",
        "value = listing_central['total_beds'].reset_index()\n",
        "sns.boxplot(data=value, x = 'total_beds')\n",
        "\n",
        "plt.subplot(339)\n",
        "value = listing_central['price_per_person'].reset_index()\n",
        "sns.boxplot(data=value, x = 'price_per_person')\n",
        "plt.show()"
      ],
      "execution_count": 37,
      "outputs": [
        {
          "output_type": "display_data",
          "data": {
            "text/plain": [
              "<Figure size 1440x720 with 8 Axes>"
            ],
            "image/png": "[encoded data removed]"
          },
          "metadata": {}
        }
      ]
    },
    {
      "cell_type": "code",
      "source": [
        "listing_central.describe()"
      ],
      "metadata": {
        "colab": {
          "base_uri": "https://localhost:8080/",
          "height": 393
        },
        "id": "lTYGATE-XrZN",
        "outputId": "237cb253-43bc-428b-df3a-a90b1e11ed84"
      },
      "execution_count": 38,
      "outputs": [
        {
          "output_type": "execute_result",
          "data": {
            "text/plain": [
              "                 id  host_response_rate  host_acceptance_rate     latitude  \\\n",
              "count  1.641000e+03         1641.000000           1641.000000  1641.000000   \n",
              "mean   3.081331e+07           78.664672             62.852246     1.299882   \n",
              "std    1.442385e+07           32.616240             35.923697     0.014844   \n",
              "min    3.559550e+05            0.000000              0.000000     1.273030   \n",
              "25%    1.983120e+07           72.778646             33.000000     1.283380   \n",
              "50%    3.262196e+07           95.000000             81.000000     1.303640   \n",
              "75%    4.265477e+07          100.000000             96.000000     1.312260   \n",
              "max    5.391043e+07          100.000000            100.000000     1.330360   \n",
              "\n",
              "         longitude  accommodates    bathrooms     bedrooms        price  \\\n",
              "count  1641.000000   1641.000000  1623.000000  1438.000000  1641.000000   \n",
              "mean    103.859860      2.987203     1.756007     1.231572   168.508836   \n",
              "std       0.015202      2.744032     1.591899     0.619721   275.036865   \n",
              "min     103.835090      1.000000     0.000000     1.000000    20.000000   \n",
              "25%     103.847130      1.000000     1.000000     1.000000    65.000000   \n",
              "50%     103.856740      2.000000     1.000000     1.000000   120.000000   \n",
              "75%     103.863750      4.000000     2.000000     1.000000   185.000000   \n",
              "max     103.905650     16.000000    21.000000     8.000000  7000.000000   \n",
              "\n",
              "       number_of_reviews  ...  review_scores_rating  review_scores_accuracy  \\\n",
              "count        1641.000000  ...           1056.000000             1044.000000   \n",
              "mean           14.621572  ...              4.512074                4.614224   \n",
              "std            33.235945  ...              0.738040                0.593856   \n",
              "min             0.000000  ...              0.000000                0.000000   \n",
              "25%             0.000000  ...              4.360000                4.500000   \n",
              "50%             1.000000  ...              4.730000                4.820000   \n",
              "75%            11.000000  ...              5.000000                5.000000   \n",
              "max           294.000000  ...              5.000000                5.000000   \n",
              "\n",
              "       review_scores_cleanliness  review_scores_checkin  \\\n",
              "count                1044.000000            1044.000000   \n",
              "mean                    4.485431               4.751561   \n",
              "std                     0.645396               0.511513   \n",
              "min                     0.000000               0.000000   \n",
              "25%                     4.250000               4.730000   \n",
              "50%                     4.690000               4.910000   \n",
              "75%                     5.000000               5.000000   \n",
              "max                     5.000000               5.000000   \n",
              "\n",
              "       review_scores_communication  review_scores_location  \\\n",
              "count                  1045.000000             1045.000000   \n",
              "mean                      4.737856                4.716048   \n",
              "std                       0.545481                0.484203   \n",
              "min                       0.000000                0.000000   \n",
              "25%                       4.710000                4.600000   \n",
              "50%                       4.920000                4.880000   \n",
              "75%                       5.000000                5.000000   \n",
              "max                       5.000000                5.000000   \n",
              "\n",
              "       review_scores_value  reviews_per_month   total_beds  price_per_person  \n",
              "count          1045.000000        1056.000000  1393.000000       1641.000000  \n",
              "mean              4.500201           0.564422     3.004307         73.035371  \n",
              "std               0.583510           0.947677     4.626260        185.880143  \n",
              "min               0.000000           0.010000     1.000000          1.500000  \n",
              "25%               4.330000           0.060000     1.000000         37.250000  \n",
              "50%               4.640000           0.210000     1.000000         54.000000  \n",
              "75%               4.950000           0.750000     4.000000         77.333333  \n",
              "max               5.000000          13.270000    54.000000       7000.000000  \n",
              "\n",
              "[8 rows x 22 columns]"
            ],
            "text/html": [
              "\n",
              "  <div id=\"df-c02e7bb8-4a60-4b91-8721-f8b61a672df2\">\n",
              "    <div class=\"colab-df-container\">\n",
              "      <div>\n",
              "<style scoped>\n",
              "    .dataframe tbody tr th:only-of-type {\n",
              "        vertical-align: middle;\n",
              "    }\n",
              "\n",
              "    .dataframe tbody tr th {\n",
              "        vertical-align: top;\n",
              "    }\n",
              "\n",
              "    .dataframe thead th {\n",
              "        text-align: right;\n",
              "    }\n",
              "</style>\n",
              "<table border=\"1\" class=\"dataframe\">\n",
              "  <thead>\n",
              "    <tr style=\"text-align: right;\">\n",
              "      <th></th>\n",
              "      <th>id</th>\n",
              "      <th>host_response_rate</th>\n",
              "      <th>host_acceptance_rate</th>\n",
              "      <th>latitude</th>\n",
              "      <th>longitude</th>\n",
              "      <th>accommodates</th>\n",
              "      <th>bathrooms</th>\n",
              "      <th>bedrooms</th>\n",
              "      <th>price</th>\n",
              "      <th>number_of_reviews</th>\n",
              "      <th>...</th>\n",
              "      <th>review_scores_rating</th>\n",
              "      <th>review_scores_accuracy</th>\n",
              "      <th>review_scores_cleanliness</th>\n",
              "      <th>review_scores_checkin</th>\n",
              "      <th>review_scores_communication</th>\n",
              "      <th>review_scores_location</th>\n",
              "      <th>review_scores_value</th>\n",
              "      <th>reviews_per_month</th>\n",
              "      <th>total_beds</th>\n",
              "      <th>price_per_person</th>\n",
              "    </tr>\n",
              "  </thead>\n",
              "  <tbody>\n",
              "    <tr>\n",
              "      <th>count</th>\n",
              "      <td>1.641000e+03</td>\n",
              "      <td>1641.000000</td>\n",
              "      <td>1641.000000</td>\n",
              "      <td>1641.000000</td>\n",
              "      <td>1641.000000</td>\n",
              "      <td>1641.000000</td>\n",
              "      <td>1623.000000</td>\n",
              "      <td>1438.000000</td>\n",
              "      <td>1641.000000</td>\n",
              "      <td>1641.000000</td>\n",
              "      <td>...</td>\n",
              "      <td>1056.000000</td>\n",
              "      <td>1044.000000</td>\n",
              "      <td>1044.000000</td>\n",
              "      <td>1044.000000</td>\n",
              "      <td>1045.000000</td>\n",
              "      <td>1045.000000</td>\n",
              "      <td>1045.000000</td>\n",
              "      <td>1056.000000</td>\n",
              "      <td>1393.000000</td>\n",
              "      <td>1641.000000</td>\n",
              "    </tr>\n",
              "    <tr>\n",
              "      <th>mean</th>\n",
              "      <td>3.081331e+07</td>\n",
              "      <td>78.664672</td>\n",
              "      <td>62.852246</td>\n",
              "      <td>1.299882</td>\n",
              "      <td>103.859860</td>\n",
              "      <td>2.987203</td>\n",
              "      <td>1.756007</td>\n",
              "      <td>1.231572</td>\n",
              "      <td>168.508836</td>\n",
              "      <td>14.621572</td>\n",
              "      <td>...</td>\n",
              "      <td>4.512074</td>\n",
              "      <td>4.614224</td>\n",
              "      <td>4.485431</td>\n",
              "      <td>4.751561</td>\n",
              "      <td>4.737856</td>\n",
              "      <td>4.716048</td>\n",
              "      <td>4.500201</td>\n",
              "      <td>0.564422</td>\n",
              "      <td>3.004307</td>\n",
              "      <td>73.035371</td>\n",
              "    </tr>\n",
              "    <tr>\n",
              "      <th>std</th>\n",
              "      <td>1.442385e+07</td>\n",
              "      <td>32.616240</td>\n",
              "      <td>35.923697</td>\n",
              "      <td>0.014844</td>\n",
              "      <td>0.015202</td>\n",
              "      <td>2.744032</td>\n",
              "      <td>1.591899</td>\n",
              "      <td>0.619721</td>\n",
              "      <td>275.036865</td>\n",
              "      <td>33.235945</td>\n",
              "      <td>...</td>\n",
              "      <td>0.738040</td>\n",
              "      <td>0.593856</td>\n",
              "      <td>0.645396</td>\n",
              "      <td>0.511513</td>\n",
              "      <td>0.545481</td>\n",
              "      <td>0.484203</td>\n",
              "      <td>0.583510</td>\n",
              "      <td>0.947677</td>\n",
              "      <td>4.626260</td>\n",
              "      <td>185.880143</td>\n",
              "    </tr>\n",
              "    <tr>\n",
              "      <th>min</th>\n",
              "      <td>3.559550e+05</td>\n",
              "      <td>0.000000</td>\n",
              "      <td>0.000000</td>\n",
              "      <td>1.273030</td>\n",
              "      <td>103.835090</td>\n",
              "      <td>1.000000</td>\n",
              "      <td>0.000000</td>\n",
              "      <td>1.000000</td>\n",
              "      <td>20.000000</td>\n",
              "      <td>0.000000</td>\n",
              "      <td>...</td>\n",
              "      <td>0.000000</td>\n",
              "      <td>0.000000</td>\n",
              "      <td>0.000000</td>\n",
              "      <td>0.000000</td>\n",
              "      <td>0.000000</td>\n",
              "      <td>0.000000</td>\n",
              "      <td>0.000000</td>\n",
              "      <td>0.010000</td>\n",
              "      <td>1.000000</td>\n",
              "      <td>1.500000</td>\n",
              "    </tr>\n",
              "    <tr>\n",
              "      <th>25%</th>\n",
              "      <td>1.983120e+07</td>\n",
              "      <td>72.778646</td>\n",
              "      <td>33.000000</td>\n",
              "      <td>1.283380</td>\n",
              "      <td>103.847130</td>\n",
              "      <td>1.000000</td>\n",
              "      <td>1.000000</td>\n",
              "      <td>1.000000</td>\n",
              "      <td>65.000000</td>\n",
              "      <td>0.000000</td>\n",
              "      <td>...</td>\n",
              "      <td>4.360000</td>\n",
              "      <td>4.500000</td>\n",
              "      <td>4.250000</td>\n",
              "      <td>4.730000</td>\n",
              "      <td>4.710000</td>\n",
              "      <td>4.600000</td>\n",
              "      <td>4.330000</td>\n",
              "      <td>0.060000</td>\n",
              "      <td>1.000000</td>\n",
              "      <td>37.250000</td>\n",
              "    </tr>\n",
              "    <tr>\n",
              "      <th>50%</th>\n",
              "      <td>3.262196e+07</td>\n",
              "      <td>95.000000</td>\n",
              "      <td>81.000000</td>\n",
              "      <td>1.303640</td>\n",
              "      <td>103.856740</td>\n",
              "      <td>2.000000</td>\n",
              "      <td>1.000000</td>\n",
              "      <td>1.000000</td>\n",
              "      <td>120.000000</td>\n",
              "      <td>1.000000</td>\n",
              "      <td>...</td>\n",
              "      <td>4.730000</td>\n",
              "      <td>4.820000</td>\n",
              "      <td>4.690000</td>\n",
              "      <td>4.910000</td>\n",
              "      <td>4.920000</td>\n",
              "      <td>4.880000</td>\n",
              "      <td>4.640000</td>\n",
              "      <td>0.210000</td>\n",
              "      <td>1.000000</td>\n",
              "      <td>54.000000</td>\n",
              "    </tr>\n",
              "    <tr>\n",
              "      <th>75%</th>\n",
              "      <td>4.265477e+07</td>\n",
              "      <td>100.000000</td>\n",
              "      <td>96.000000</td>\n",
              "      <td>1.312260</td>\n",
              "      <td>103.863750</td>\n",
              "      <td>4.000000</td>\n",
              "      <td>2.000000</td>\n",
              "      <td>1.000000</td>\n",
              "      <td>185.000000</td>\n",
              "      <td>11.000000</td>\n",
              "      <td>...</td>\n",
              "      <td>5.000000</td>\n",
              "      <td>5.000000</td>\n",
              "      <td>5.000000</td>\n",
              "      <td>5.000000</td>\n",
              "      <td>5.000000</td>\n",
              "      <td>5.000000</td>\n",
              "      <td>4.950000</td>\n",
              "      <td>0.750000</td>\n",
              "      <td>4.000000</td>\n",
              "      <td>77.333333</td>\n",
              "    </tr>\n",
              "    <tr>\n",
              "      <th>max</th>\n",
              "      <td>5.391043e+07</td>\n",
              "      <td>100.000000</td>\n",
              "      <td>100.000000</td>\n",
              "      <td>1.330360</td>\n",
              "      <td>103.905650</td>\n",
              "      <td>16.000000</td>\n",
              "      <td>21.000000</td>\n",
              "      <td>8.000000</td>\n",
              "      <td>7000.000000</td>\n",
              "      <td>294.000000</td>\n",
              "      <td>...</td>\n",
              "      <td>5.000000</td>\n",
              "      <td>5.000000</td>\n",
              "      <td>5.000000</td>\n",
              "      <td>5.000000</td>\n",
              "      <td>5.000000</td>\n",
              "      <td>5.000000</td>\n",
              "      <td>5.000000</td>\n",
              "      <td>13.270000</td>\n",
              "      <td>54.000000</td>\n",
              "      <td>7000.000000</td>\n",
              "    </tr>\n",
              "  </tbody>\n",
              "</table>\n",
              "<p>8 rows × 22 columns</p>\n",
              "</div>\n",
              "      <button class=\"colab-df-convert\" onclick=\"convertToInteractive('df-c02e7bb8-4a60-4b91-8721-f8b61a672df2')\"\n",
              "              title=\"Convert this dataframe to an interactive table.\"\n",
              "              style=\"display:none;\">\n",
              "        \n",
              "  <svg xmlns=\"http://www.w3.org/2000/svg\" height=\"24px\"viewBox=\"0 0 24 24\"\n",
              "       width=\"24px\">\n",
              "    <path d=\"M0 0h24v24H0V0z\" fill=\"none\"/>\n",
              "    <path d=\"M18.56 5.44l.94 2.06.94-2.06 2.06-.94-2.06-.94-.94-2.06-.94 2.06-2.06.94zm-11 1L8.5 8.5l.94-2.06 2.06-.94-2.06-.94L8.5 2.5l-.94 2.06-2.06.94zm10 10l.94 2.06.94-2.06 2.06-.94-2.06-.94-.94-2.06-.94 2.06-2.06.94z\"/><path d=\"M17.41 7.96l-1.37-1.37c-.4-.4-.92-.59-1.43-.59-.52 0-1.04.2-1.43.59L10.3 9.45l-7.72 7.72c-.78.78-.78 2.05 0 2.83L4 21.41c.39.39.9.59 1.41.59.51 0 1.02-.2 1.41-.59l7.78-7.78 2.81-2.81c.8-.78.8-2.07 0-2.86zM5.41 20L4 18.59l7.72-7.72 1.47 1.35L5.41 20z\"/>\n",
              "  </svg>\n",
              "      </button>\n",
              "      \n",
              "  <style>\n",
              "    .colab-df-container {\n",
              "      display:flex;\n",
              "      flex-wrap:wrap;\n",
              "      gap: 12px;\n",
              "    }\n",
              "\n",
              "    .colab-df-convert {\n",
              "      background-color: #E8F0FE;\n",
              "      border: none;\n",
              "      border-radius: 50%;\n",
              "      cursor: pointer;\n",
              "      display: none;\n",
              "      fill: #1967D2;\n",
              "      height: 32px;\n",
              "      padding: 0 0 0 0;\n",
              "      width: 32px;\n",
              "    }\n",
              "\n",
              "    .colab-df-convert:hover {\n",
              "      background-color: #E2EBFA;\n",
              "      box-shadow: 0px 1px 2px rgba(60, 64, 67, 0.3), 0px 1px 3px 1px rgba(60, 64, 67, 0.15);\n",
              "      fill: #174EA6;\n",
              "    }\n",
              "\n",
              "    [theme=dark] .colab-df-convert {\n",
              "      background-color: #3B4455;\n",
              "      fill: #D2E3FC;\n",
              "    }\n",
              "\n",
              "    [theme=dark] .colab-df-convert:hover {\n",
              "      background-color: #434B5C;\n",
              "      box-shadow: 0px 1px 3px 1px rgba(0, 0, 0, 0.15);\n",
              "      filter: drop-shadow(0px 1px 2px rgba(0, 0, 0, 0.3));\n",
              "      fill: #FFFFFF;\n",
              "    }\n",
              "  </style>\n",
              "\n",
              "      <script>\n",
              "        const buttonEl =\n",
              "          document.querySelector('#df-c02e7bb8-4a60-4b91-8721-f8b61a672df2 button.colab-df-convert');\n",
              "        buttonEl.style.display =\n",
              "          google.colab.kernel.accessAllowed ? 'block' : 'none';\n",
              "\n",
              "        async function convertToInteractive(key) {\n",
              "          const element = document.querySelector('#df-c02e7bb8-4a60-4b91-8721-f8b61a672df2');\n",
              "          const dataTable =\n",
              "            await google.colab.kernel.invokeFunction('convertToInteractive',\n",
              "                                                     [key], {});\n",
              "          if (!dataTable) return;\n",
              "\n",
              "          const docLinkHtml = 'Like what you see? Visit the ' +\n",
              "            '<a target=\"_blank\" href=https://colab.research.google.com/notebooks/data_table.ipynb>data table notebook</a>'\n",
              "            + ' to learn more about interactive tables.';\n",
              "          element.innerHTML = '';\n",
              "          dataTable['output_type'] = 'display_data';\n",
              "          await google.colab.output.renderOutput(dataTable, element);\n",
              "          const docLink = document.createElement('div');\n",
              "          docLink.innerHTML = docLinkHtml;\n",
              "          element.appendChild(docLink);\n",
              "        }\n",
              "      </script>\n",
              "    </div>\n",
              "  </div>\n",
              "  "
            ]
          },
          "metadata": {},
          "execution_count": 38
        }
      ]
    },
    {
      "cell_type": "code",
      "source": [
        "def detect_outlier(column):\n",
        "  Q1 = listing_final[column].quantile(0.25)\n",
        "  Q3 = listing_final[column].quantile(0.75)\n",
        "  Inter_quantile_range = Q3-Q1\n",
        "  lower_whisker = Q1 - 1.5*Inter_quantile_range\n",
        "  upper_whisker = Q3 + 1.5*Inter_quantile_range\n",
        "  return listing_final[(lower_whisker < listing_final[column]) & (listing_final[column] < upper_whisker)]\n"
      ],
      "metadata": {
        "id": "zeGMoJOe5N8N"
      },
      "execution_count": 39,
      "outputs": []
    },
    {
      "cell_type": "code",
      "source": [
        "listing_final = listing_central.copy()"
      ],
      "metadata": {
        "id": "6isQSyXM-p-E"
      },
      "execution_count": 40,
      "outputs": []
    },
    {
      "cell_type": "code",
      "source": [
        "for column in ['price','accommodates','bathrooms']:\n",
        "  listing_final = detect_outlier(column)"
      ],
      "metadata": {
        "id": "ekkfKxpX4s5y"
      },
      "execution_count": 41,
      "outputs": []
    },
    {
      "cell_type": "code",
      "source": [
        "listing_final.shape"
      ],
      "metadata": {
        "colab": {
          "base_uri": "https://localhost:8080/"
        },
        "id": "n73Qy4dNYA_g",
        "outputId": "992a95c1-4f96-47c3-8902-a99909508fba"
      },
      "execution_count": 42,
      "outputs": [
        {
          "output_type": "execute_result",
          "data": {
            "text/plain": [
              "(1270, 29)"
            ]
          },
          "metadata": {},
          "execution_count": 42
        }
      ]
    },
    {
      "cell_type": "markdown",
      "source": [
        "# B - Extract data"
      ],
      "metadata": {
        "id": "ehWD2ShX5D6F"
      }
    },
    {
      "cell_type": "code",
      "source": [
        "from google.colab import files\n",
        "\n",
        "listing_clean.to_csv('listing_clean.csv', encoding = 'utf-8-sig') \n",
        "files.download('listing_clean.csv')"
      ],
      "metadata": {
        "colab": {
          "base_uri": "https://localhost:8080/",
          "height": 17
        },
        "id": "zkXxT80O9grc",
        "outputId": "507ca1f2-00a1-4d52-d880-78a11811cecc"
      },
      "execution_count": null,
      "outputs": [
        {
          "output_type": "display_data",
          "data": {
            "text/plain": [
              "<IPython.core.display.Javascript object>"
            ],
            "application/javascript": [
              "\n",
              "    async function download(id, filename, size) {\n",
              "      if (!google.colab.kernel.accessAllowed) {\n",
              "        return;\n",
              "      }\n",
              "      const div = document.createElement('div');\n",
              "      const label = document.createElement('label');\n",
              "      label.textContent = `Downloading \"${filename}\": `;\n",
              "      div.appendChild(label);\n",
              "      const progress = document.createElement('progress');\n",
              "      progress.max = size;\n",
              "      div.appendChild(progress);\n",
              "      document.body.appendChild(div);\n",
              "\n",
              "      const buffers = [];\n",
              "      let downloaded = 0;\n",
              "\n",
              "      const channel = await google.colab.kernel.comms.open(id);\n",
              "      // Send a message to notify the kernel that we're ready.\n",
              "      channel.send({})\n",
              "\n",
              "      for await (const message of channel.messages) {\n",
              "        // Send a message to notify the kernel that we're ready.\n",
              "        channel.send({})\n",
              "        if (message.buffers) {\n",
              "          for (const buffer of message.buffers) {\n",
              "            buffers.push(buffer);\n",
              "            downloaded += buffer.byteLength;\n",
              "            progress.value = downloaded;\n",
              "          }\n",
              "        }\n",
              "      }\n",
              "      const blob = new Blob(buffers, {type: 'application/binary'});\n",
              "      const a = document.createElement('a');\n",
              "      a.href = window.URL.createObjectURL(blob);\n",
              "      a.download = filename;\n",
              "      div.appendChild(a);\n",
              "      a.click();\n",
              "      div.remove();\n",
              "    }\n",
              "  "
            ]
          },
          "metadata": {}
        },
        {
          "output_type": "display_data",
          "data": {
            "text/plain": [
              "<IPython.core.display.Javascript object>"
            ],
            "application/javascript": [
              "download(\"download_568ed701-e546-461e-a4bc-a11bb4a9e362\", \"listing_clean.csv\", 548779)"
            ]
          },
          "metadata": {}
        }
      ]
    },
    {
      "cell_type": "code",
      "source": [
        "listing_central.to_csv('listing_central.csv', encoding = 'utf-8-sig') \n",
        "files.download('listing_central.csv')"
      ],
      "metadata": {
        "colab": {
          "base_uri": "https://localhost:8080/",
          "height": 17
        },
        "id": "OEV4o_W1Ygz8",
        "outputId": "3a026199-abde-4f2d-a2a2-eaf77395ba8e"
      },
      "execution_count": null,
      "outputs": [
        {
          "output_type": "display_data",
          "data": {
            "text/plain": [
              "<IPython.core.display.Javascript object>"
            ],
            "application/javascript": [
              "\n",
              "    async function download(id, filename, size) {\n",
              "      if (!google.colab.kernel.accessAllowed) {\n",
              "        return;\n",
              "      }\n",
              "      const div = document.createElement('div');\n",
              "      const label = document.createElement('label');\n",
              "      label.textContent = `Downloading \"${filename}\": `;\n",
              "      div.appendChild(label);\n",
              "      const progress = document.createElement('progress');\n",
              "      progress.max = size;\n",
              "      div.appendChild(progress);\n",
              "      document.body.appendChild(div);\n",
              "\n",
              "      const buffers = [];\n",
              "      let downloaded = 0;\n",
              "\n",
              "      const channel = await google.colab.kernel.comms.open(id);\n",
              "      // Send a message to notify the kernel that we're ready.\n",
              "      channel.send({})\n",
              "\n",
              "      for await (const message of channel.messages) {\n",
              "        // Send a message to notify the kernel that we're ready.\n",
              "        channel.send({})\n",
              "        if (message.buffers) {\n",
              "          for (const buffer of message.buffers) {\n",
              "            buffers.push(buffer);\n",
              "            downloaded += buffer.byteLength;\n",
              "            progress.value = downloaded;\n",
              "          }\n",
              "        }\n",
              "      }\n",
              "      const blob = new Blob(buffers, {type: 'application/binary'});\n",
              "      const a = document.createElement('a');\n",
              "      a.href = window.URL.createObjectURL(blob);\n",
              "      a.download = filename;\n",
              "      div.appendChild(a);\n",
              "      a.click();\n",
              "      div.remove();\n",
              "    }\n",
              "  "
            ]
          },
          "metadata": {}
        },
        {
          "output_type": "display_data",
          "data": {
            "text/plain": [
              "<IPython.core.display.Javascript object>"
            ],
            "application/javascript": [
              "download(\"download_24cc43c3-4f1e-45b1-9da1-6067b7256061\", \"listing_central.csv\", 254102)"
            ]
          },
          "metadata": {}
        }
      ]
    },
    {
      "cell_type": "code",
      "source": [
        "listing_final.to_csv('listing_final.csv', encoding = 'utf-8-sig') \n",
        "files.download('listing_final.csv')"
      ],
      "metadata": {
        "colab": {
          "base_uri": "https://localhost:8080/",
          "height": 17
        },
        "id": "tVKb8qAf_ABc",
        "outputId": "96672b54-796a-4574-eb17-27deb2307ca6"
      },
      "execution_count": null,
      "outputs": [
        {
          "output_type": "display_data",
          "data": {
            "text/plain": [
              "<IPython.core.display.Javascript object>"
            ],
            "application/javascript": [
              "\n",
              "    async function download(id, filename, size) {\n",
              "      if (!google.colab.kernel.accessAllowed) {\n",
              "        return;\n",
              "      }\n",
              "      const div = document.createElement('div');\n",
              "      const label = document.createElement('label');\n",
              "      label.textContent = `Downloading \"${filename}\": `;\n",
              "      div.appendChild(label);\n",
              "      const progress = document.createElement('progress');\n",
              "      progress.max = size;\n",
              "      div.appendChild(progress);\n",
              "      document.body.appendChild(div);\n",
              "\n",
              "      const buffers = [];\n",
              "      let downloaded = 0;\n",
              "\n",
              "      const channel = await google.colab.kernel.comms.open(id);\n",
              "      // Send a message to notify the kernel that we're ready.\n",
              "      channel.send({})\n",
              "\n",
              "      for await (const message of channel.messages) {\n",
              "        // Send a message to notify the kernel that we're ready.\n",
              "        channel.send({})\n",
              "        if (message.buffers) {\n",
              "          for (const buffer of message.buffers) {\n",
              "            buffers.push(buffer);\n",
              "            downloaded += buffer.byteLength;\n",
              "            progress.value = downloaded;\n",
              "          }\n",
              "        }\n",
              "      }\n",
              "      const blob = new Blob(buffers, {type: 'application/binary'});\n",
              "      const a = document.createElement('a');\n",
              "      a.href = window.URL.createObjectURL(blob);\n",
              "      a.download = filename;\n",
              "      div.appendChild(a);\n",
              "      a.click();\n",
              "      div.remove();\n",
              "    }\n",
              "  "
            ]
          },
          "metadata": {}
        },
        {
          "output_type": "display_data",
          "data": {
            "text/plain": [
              "<IPython.core.display.Javascript object>"
            ],
            "application/javascript": [
              "download(\"download_816b4e38-97c5-4cce-ab64-271f09658914\", \"listing_final.csv\", 194735)"
            ]
          },
          "metadata": {}
        }
      ]
    }
  ]
}